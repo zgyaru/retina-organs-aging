{
 "cells": [
  {
   "cell_type": "code",
   "execution_count": 1,
   "id": "30980681",
   "metadata": {},
   "outputs": [
    {
     "name": "stderr",
     "output_type": "stream",
     "text": [
      "/share/home/zhangyr/.conda/envs/web_jupyter/lib/python3.8/site-packages/xgboost/core.py:265: FutureWarning: Your system has an old version of glibc (< 2.28). We will stop supporting Linux distros with glibc older than 2.28 after **May 31, 2025**. Please upgrade to a recent Linux distro (with glibc 2.28+) to use future versions of XGBoost.\n",
      "Note: You have installed the 'manylinux2014' variant of XGBoost. Certain features such as GPU algorithms or federated learning are not available. To use these features, please upgrade to a recent Linux distro with glibc 2.28+, and install the 'manylinux_2_28' variant.\n",
      "  warnings.warn(\n"
     ]
    }
   ],
   "source": [
    "import numpy as np\n",
    "import pandas as pd\n",
    "import os\n",
    "import xgboost as xgb\n",
    "from sklearn.svm import SVR\n",
    "from sklearn.pipeline import make_pipeline\n",
    "from sklearn.preprocessing import StandardScaler\n",
    "from sklearn.ensemble import RandomForestRegressor, GradientBoostingRegressor\n",
    "from sklearn.neighbors import KNeighborsRegressor\n",
    "from sklearn.neural_network import MLPRegressor\n",
    "from sklearn.model_selection import KFold\n",
    "from sklearn.metrics import mean_absolute_error\n",
    "from scipy.stats import pearsonr"
   ]
  },
  {
   "cell_type": "code",
   "execution_count": 2,
   "id": "aacac8f6",
   "metadata": {},
   "outputs": [],
   "source": [
    "# 定义不同的模型\n",
    "models = {\n",
    "    \"SVM\": make_pipeline(StandardScaler(), SVR(kernel='linear')),\n",
    "    \"XGBoost\": xgb.XGBRegressor(objective='reg:squarederror', n_estimators=100, learning_rate=0.1, max_depth=6, subsample=0.8, colsample_bytree=0.8, random_state=123),\n",
    "    \"RandomForest\": RandomForestRegressor(n_estimators=100, max_depth=6, random_state=123),\n",
    "    \"GradientBoosting\": GradientBoostingRegressor(n_estimators=100, learning_rate=0.1, max_depth=6, random_state=123),\n",
    "    \"KNN\": KNeighborsRegressor(n_neighbors=5),\n",
    "    \"MLP\": MLPRegressor(hidden_layer_sizes=(50, 50), activation='relu', solver='adam', max_iter=500, random_state=123)\n",
    "}"
   ]
  },
  {
   "cell_type": "code",
   "execution_count": 3,
   "id": "51e47e71",
   "metadata": {},
   "outputs": [],
   "source": [
    "label = pd.read_csv('/share2/pub/zhangyr/zhangyr/myIdea/bioAge/data/UKB/label/health_self_i0.csv')\n",
    "sex = pd.read_csv('/share2/pub/zhangyr/zhangyr/myIdea/bioAge/data/UKB/body/502137_sex_20241226.csv',header=0,index_col=0)\n",
    "age = pd.read_csv('/share2/pub/zhangyr/zhangyr/myIdea/bioAge/data/UKB/body/502137_age_20241226.csv',index_col=0)\n",
    "baseline = pd.read_csv('/share2/pub/zhangyr/zhangyr/myIdea/bioAge/data/UKB/body/502137_baseline_78features_20241226.csv',header=0,index_col=0)\n"
   ]
  },
  {
   "cell_type": "code",
   "execution_count": 4,
   "id": "6674ff7f",
   "metadata": {},
   "outputs": [],
   "source": [
    "body = pd.read_csv('/share/pub/zhangyr/database/UKB-old//body_fileID_20241216.csv',header=0)\n",
    "grouped_dict = body.groupby('Organ')['Filed ID'].apply(list).to_dict()\n",
    "organ_dic = {}\n"
   ]
  },
  {
   "cell_type": "code",
   "execution_count": 5,
   "id": "e2cb04de",
   "metadata": {},
   "outputs": [],
   "source": [
    "for k in grouped_dict:\n",
    "    if k != 'Body':\n",
    "        organ_dic[k] = ['participant.p'+str(x)+'_i0' for x in grouped_dict[k]]\n",
    "\n",
    "organ_dic['Pulmonary'] = organ_dic['Pulmonary']+['FEV1-FVC_ratio']\n",
    "organ_dic['Musculoskeletal'] = organ_dic['Musculoskeletal']+['Waist-hip_ratio','BMD_avg',\n",
    "                                                             'Ankle_spacing_width_avg',\n",
    "                                                             'Hand_grip_strength_avg']\n",
    "\n"
   ]
  },
  {
   "cell_type": "code",
   "execution_count": 7,
   "id": "8be5b399",
   "metadata": {},
   "outputs": [],
   "source": [
    "organ_models = {}"
   ]
  },
  {
   "cell_type": "code",
   "execution_count": 8,
   "id": "8486f2c6",
   "metadata": {
    "scrolled": true
   },
   "outputs": [
    {
     "name": "stdout",
     "output_type": "stream",
     "text": [
      "Running organ Cardiovascular...\n",
      "(109418, 3)\n"
     ]
    },
    {
     "name": "stderr",
     "output_type": "stream",
     "text": [
      "/tmp/ipykernel_330027/718762527.py:5: FutureWarning: Passing a set as an indexer is deprecated and will raise in a future version. Use a list instead.\n",
      "  health_organ_data = health_data[set(health_data.columns) & set(organ_dic[k])]\n"
     ]
    },
    {
     "name": "stdout",
     "output_type": "stream",
     "text": [
      "Running organ Hepatic...\n",
      "(86170, 8)\n"
     ]
    },
    {
     "name": "stderr",
     "output_type": "stream",
     "text": [
      "/tmp/ipykernel_330027/718762527.py:5: FutureWarning: Passing a set as an indexer is deprecated and will raise in a future version. Use a list instead.\n",
      "  health_organ_data = health_data[set(health_data.columns) & set(organ_dic[k])]\n"
     ]
    },
    {
     "name": "stdout",
     "output_type": "stream",
     "text": [
      "Running organ Immune...\n",
      "(104792, 32)\n"
     ]
    },
    {
     "name": "stderr",
     "output_type": "stream",
     "text": [
      "/tmp/ipykernel_330027/718762527.py:5: FutureWarning: Passing a set as an indexer is deprecated and will raise in a future version. Use a list instead.\n",
      "  health_organ_data = health_data[set(health_data.columns) & set(organ_dic[k])]\n"
     ]
    },
    {
     "name": "stdout",
     "output_type": "stream",
     "text": [
      "Running organ Metabolic...\n",
      "(76203, 9)\n"
     ]
    },
    {
     "name": "stderr",
     "output_type": "stream",
     "text": [
      "/tmp/ipykernel_330027/718762527.py:5: FutureWarning: Passing a set as an indexer is deprecated and will raise in a future version. Use a list instead.\n",
      "  health_organ_data = health_data[set(health_data.columns) & set(organ_dic[k])]\n"
     ]
    },
    {
     "name": "stdout",
     "output_type": "stream",
     "text": [
      "Running organ Musculoskeletal...\n",
      "(85756, 11)\n"
     ]
    },
    {
     "name": "stderr",
     "output_type": "stream",
     "text": [
      "/tmp/ipykernel_330027/718762527.py:5: FutureWarning: Passing a set as an indexer is deprecated and will raise in a future version. Use a list instead.\n",
      "  health_organ_data = health_data[set(health_data.columns) & set(organ_dic[k])]\n"
     ]
    },
    {
     "name": "stdout",
     "output_type": "stream",
     "text": [
      "Running organ Pulmonary...\n",
      "(85565, 4)\n"
     ]
    },
    {
     "name": "stderr",
     "output_type": "stream",
     "text": [
      "/tmp/ipykernel_330027/718762527.py:5: FutureWarning: Passing a set as an indexer is deprecated and will raise in a future version. Use a list instead.\n",
      "  health_organ_data = health_data[set(health_data.columns) & set(organ_dic[k])]\n"
     ]
    },
    {
     "name": "stdout",
     "output_type": "stream",
     "text": [
      "Running organ Renal...\n",
      "(96896, 10)\n"
     ]
    },
    {
     "name": "stderr",
     "output_type": "stream",
     "text": [
      "/tmp/ipykernel_330027/718762527.py:5: FutureWarning: Passing a set as an indexer is deprecated and will raise in a future version. Use a list instead.\n",
      "  health_organ_data = health_data[set(health_data.columns) & set(organ_dic[k])]\n"
     ]
    }
   ],
   "source": [
    "for k in organ_dic:\n",
    "    print(f\"Running organ {k}...\")\n",
    "    #health_data = baseline.loc[label.index[label.sum(1) == 0]]\n",
    "    health_data = baseline.loc[label['eid']]\n",
    "    health_organ_data = health_data[set(health_data.columns) & set(organ_dic[k])]\n",
    "    health_organ_data = health_organ_data.dropna()\n",
    "    print(health_organ_data.shape)\n",
    "\n",
    "    ## organ features\n",
    "    test_age = age.loc[health_organ_data.index]\n",
    "    #test_sex = sex.loc[health_organ_data.index]\n",
    "    x = health_organ_data.values\n",
    "    y = test_age.values.ravel()\n",
    "    #eids = health_organ_data.index\n",
    "    model = GradientBoostingRegressor(n_estimators=100, learning_rate=0.1, max_depth=6, random_state=123)\n",
    "    model.fit(x, y)\n",
    "    organ_models[k] = model"
   ]
  },
  {
   "cell_type": "code",
   "execution_count": 11,
   "id": "f5ade12c",
   "metadata": {},
   "outputs": [],
   "source": [
    "brain = pd.read_csv('/share2/pub/zhangyr/zhangyr/myIdea/bioAge/data/UKB/brain/502137_baseline_803features_20241226.csv',index_col=0)\n",
    "#health_brain = brain.loc[label.index[label.sum(1) == 0]].dropna()\n",
    "health_brain = brain.loc[label['eid']].dropna()\n"
   ]
  },
  {
   "cell_type": "code",
   "execution_count": 12,
   "id": "e5d87f10",
   "metadata": {},
   "outputs": [],
   "source": [
    "test_age = age.loc[health_brain.index]\n",
    "x = health_brain.values\n",
    "y = test_age.values.ravel()"
   ]
  },
  {
   "cell_type": "code",
   "execution_count": 13,
   "id": "be70f6b2",
   "metadata": {},
   "outputs": [],
   "source": [
    "model = make_pipeline(StandardScaler(), SVR(kernel='linear'))\n",
    "model.fit(x, y)\n",
    "organ_models['Brain'] = model"
   ]
  },
  {
   "cell_type": "code",
   "execution_count": 14,
   "id": "43e99a6f",
   "metadata": {},
   "outputs": [
    {
     "data": {
      "text/plain": [
       "{'Cardiovascular': GradientBoostingRegressor(max_depth=6, random_state=123),\n",
       " 'Hepatic': GradientBoostingRegressor(max_depth=6, random_state=123),\n",
       " 'Immune': GradientBoostingRegressor(max_depth=6, random_state=123),\n",
       " 'Metabolic': GradientBoostingRegressor(max_depth=6, random_state=123),\n",
       " 'Musculoskeletal': GradientBoostingRegressor(max_depth=6, random_state=123),\n",
       " 'Pulmonary': GradientBoostingRegressor(max_depth=6, random_state=123),\n",
       " 'Renal': GradientBoostingRegressor(max_depth=6, random_state=123),\n",
       " 'Brain': Pipeline(steps=[('standardscaler', StandardScaler()),\n",
       "                 ('svr', SVR(kernel='linear'))])}"
      ]
     },
     "execution_count": 14,
     "metadata": {},
     "output_type": "execute_result"
    }
   ],
   "source": [
    "organ_models"
   ]
  },
  {
   "cell_type": "code",
   "execution_count": 16,
   "id": "4e3453cc",
   "metadata": {
    "scrolled": true
   },
   "outputs": [
    {
     "name": "stdout",
     "output_type": "stream",
     "text": [
      "Predicting organ Cardiovascular...\n"
     ]
    },
    {
     "name": "stderr",
     "output_type": "stream",
     "text": [
      "/tmp/ipykernel_330027/1494471999.py:6: FutureWarning: Passing a set as an indexer is deprecated and will raise in a future version. Use a list instead.\n",
      "  disease_organ_data = disease_data[set(disease_data.columns) & set(organ_dic[k])]\n"
     ]
    },
    {
     "name": "stdout",
     "output_type": "stream",
     "text": [
      "(362612, 3)\n",
      "Predicting organ Hepatic...\n"
     ]
    },
    {
     "name": "stderr",
     "output_type": "stream",
     "text": [
      "/tmp/ipykernel_330027/1494471999.py:6: FutureWarning: Passing a set as an indexer is deprecated and will raise in a future version. Use a list instead.\n",
      "  disease_organ_data = disease_data[set(disease_data.columns) & set(organ_dic[k])]\n"
     ]
    },
    {
     "name": "stdout",
     "output_type": "stream",
     "text": [
      "(278208, 8)\n",
      "Predicting organ Immune...\n"
     ]
    },
    {
     "name": "stderr",
     "output_type": "stream",
     "text": [
      "/tmp/ipykernel_330027/1494471999.py:6: FutureWarning: Passing a set as an indexer is deprecated and will raise in a future version. Use a list instead.\n",
      "  disease_organ_data = disease_data[set(disease_data.columns) & set(organ_dic[k])]\n"
     ]
    },
    {
     "name": "stdout",
     "output_type": "stream",
     "text": [
      "(343733, 32)\n",
      "Predicting organ Metabolic...\n"
     ]
    },
    {
     "name": "stderr",
     "output_type": "stream",
     "text": [
      "/tmp/ipykernel_330027/1494471999.py:6: FutureWarning: Passing a set as an indexer is deprecated and will raise in a future version. Use a list instead.\n",
      "  disease_organ_data = disease_data[set(disease_data.columns) & set(organ_dic[k])]\n"
     ]
    },
    {
     "name": "stdout",
     "output_type": "stream",
     "text": [
      "(245156, 9)\n",
      "Predicting organ Musculoskeletal...\n"
     ]
    },
    {
     "name": "stderr",
     "output_type": "stream",
     "text": [
      "/tmp/ipykernel_330027/1494471999.py:6: FutureWarning: Passing a set as an indexer is deprecated and will raise in a future version. Use a list instead.\n",
      "  disease_organ_data = disease_data[set(disease_data.columns) & set(organ_dic[k])]\n"
     ]
    },
    {
     "name": "stdout",
     "output_type": "stream",
     "text": [
      "(278885, 11)\n",
      "Predicting organ Pulmonary...\n"
     ]
    },
    {
     "name": "stderr",
     "output_type": "stream",
     "text": [
      "/tmp/ipykernel_330027/1494471999.py:6: FutureWarning: Passing a set as an indexer is deprecated and will raise in a future version. Use a list instead.\n",
      "  disease_organ_data = disease_data[set(disease_data.columns) & set(organ_dic[k])]\n"
     ]
    },
    {
     "name": "stdout",
     "output_type": "stream",
     "text": [
      "(267502, 4)\n",
      "Predicting organ Renal...\n"
     ]
    },
    {
     "name": "stderr",
     "output_type": "stream",
     "text": [
      "/tmp/ipykernel_330027/1494471999.py:6: FutureWarning: Passing a set as an indexer is deprecated and will raise in a future version. Use a list instead.\n",
      "  disease_organ_data = disease_data[set(disease_data.columns) & set(organ_dic[k])]\n"
     ]
    },
    {
     "name": "stdout",
     "output_type": "stream",
     "text": [
      "(316294, 10)\n"
     ]
    }
   ],
   "source": [
    "organ_res = {}\n",
    "for k in organ_dic:\n",
    "    print(f\"Predicting organ {k}...\")\n",
    "    #health_data = baseline.loc[label.index[label.sum(1) == 0]]\n",
    "    disease_data = baseline.loc[list(set(baseline.index) - set(label['eid']))]\n",
    "    disease_organ_data = disease_data[set(disease_data.columns) & set(organ_dic[k])]\n",
    "    disease_organ_data = disease_organ_data.dropna()\n",
    "    print(disease_organ_data.shape)\n",
    "    predictions = organ_models[k].predict(disease_organ_data.values)\n",
    "    organ_res[k] = predictions"
   ]
  },
  {
   "cell_type": "code",
   "execution_count": 17,
   "id": "5a3d9c70",
   "metadata": {},
   "outputs": [],
   "source": [
    "disease_brain = brain.loc[list(set(brain.index) - set(label['eid']))].dropna()"
   ]
  },
  {
   "cell_type": "code",
   "execution_count": 18,
   "id": "49352c15",
   "metadata": {},
   "outputs": [],
   "source": [
    "organ_res['Brain'] = organ_models['Brain'].predict(disease_brain.values)"
   ]
  },
  {
   "cell_type": "code",
   "execution_count": 19,
   "id": "8980d4e5",
   "metadata": {},
   "outputs": [
    {
     "data": {
      "text/plain": [
       "dict_keys(['Cardiovascular', 'Hepatic', 'Immune', 'Metabolic', 'Musculoskeletal', 'Pulmonary', 'Renal', 'Brain'])"
      ]
     },
     "execution_count": 19,
     "metadata": {},
     "output_type": "execute_result"
    }
   ],
   "source": [
    "organ_res.keys()"
   ]
  },
  {
   "cell_type": "code",
   "execution_count": 20,
   "id": "a0dea46d",
   "metadata": {},
   "outputs": [],
   "source": [
    "np.save(\"/share2/pub/zhangyr/zhangyr/myIdea/bioAge/results/202503_8organs_predictions.npy\", organ_res)"
   ]
  },
  {
   "cell_type": "code",
   "execution_count": 26,
   "id": "84af781e",
   "metadata": {
    "scrolled": true
   },
   "outputs": [
    {
     "name": "stdout",
     "output_type": "stream",
     "text": [
      "Running organ Cardiovascular...\n",
      "(362612, 3)\n",
      "Running organ Hepatic...\n"
     ]
    },
    {
     "name": "stderr",
     "output_type": "stream",
     "text": [
      "/tmp/ipykernel_330027/2651501810.py:7: FutureWarning: Passing a set as an indexer is deprecated and will raise in a future version. Use a list instead.\n",
      "  disease_organ_data = disease_data[set(disease_data.columns) & set(organ_dic[k])]\n",
      "/tmp/ipykernel_330027/2651501810.py:7: FutureWarning: Passing a set as an indexer is deprecated and will raise in a future version. Use a list instead.\n",
      "  disease_organ_data = disease_data[set(disease_data.columns) & set(organ_dic[k])]\n"
     ]
    },
    {
     "name": "stdout",
     "output_type": "stream",
     "text": [
      "(278208, 8)\n",
      "Running organ Immune...\n"
     ]
    },
    {
     "name": "stderr",
     "output_type": "stream",
     "text": [
      "/tmp/ipykernel_330027/2651501810.py:7: FutureWarning: Passing a set as an indexer is deprecated and will raise in a future version. Use a list instead.\n",
      "  disease_organ_data = disease_data[set(disease_data.columns) & set(organ_dic[k])]\n"
     ]
    },
    {
     "name": "stdout",
     "output_type": "stream",
     "text": [
      "(343733, 32)\n",
      "Running organ Metabolic...\n"
     ]
    },
    {
     "name": "stderr",
     "output_type": "stream",
     "text": [
      "/tmp/ipykernel_330027/2651501810.py:7: FutureWarning: Passing a set as an indexer is deprecated and will raise in a future version. Use a list instead.\n",
      "  disease_organ_data = disease_data[set(disease_data.columns) & set(organ_dic[k])]\n"
     ]
    },
    {
     "name": "stdout",
     "output_type": "stream",
     "text": [
      "(245156, 9)\n",
      "Running organ Musculoskeletal...\n"
     ]
    },
    {
     "name": "stderr",
     "output_type": "stream",
     "text": [
      "/tmp/ipykernel_330027/2651501810.py:7: FutureWarning: Passing a set as an indexer is deprecated and will raise in a future version. Use a list instead.\n",
      "  disease_organ_data = disease_data[set(disease_data.columns) & set(organ_dic[k])]\n"
     ]
    },
    {
     "name": "stdout",
     "output_type": "stream",
     "text": [
      "(278885, 11)\n",
      "Running organ Pulmonary...\n"
     ]
    },
    {
     "name": "stderr",
     "output_type": "stream",
     "text": [
      "/tmp/ipykernel_330027/2651501810.py:7: FutureWarning: Passing a set as an indexer is deprecated and will raise in a future version. Use a list instead.\n",
      "  disease_organ_data = disease_data[set(disease_data.columns) & set(organ_dic[k])]\n"
     ]
    },
    {
     "name": "stdout",
     "output_type": "stream",
     "text": [
      "(267502, 4)\n",
      "Running organ Renal...\n",
      "(316294, 10)\n"
     ]
    },
    {
     "name": "stderr",
     "output_type": "stream",
     "text": [
      "/tmp/ipykernel_330027/2651501810.py:7: FutureWarning: Passing a set as an indexer is deprecated and will raise in a future version. Use a list instead.\n",
      "  disease_organ_data = disease_data[set(disease_data.columns) & set(organ_dic[k])]\n"
     ]
    }
   ],
   "source": [
    "for k in organ_dic:\n",
    "    print(f\"Running organ {k}...\")\n",
    "    if k == 'Cardiovascular':\n",
    "        next\n",
    "    #health_data = baseline.loc[label.index[label.sum(1) == 0]]\n",
    "    disease_data = baseline.loc[list(set(baseline.index) - set(label['eid']))]\n",
    "    disease_organ_data = disease_data[set(disease_data.columns) & set(organ_dic[k])]\n",
    "    disease_organ_data = disease_organ_data.dropna()\n",
    "    print(disease_organ_data.shape)\n",
    "    organ_res[k] = pd.Series(list(organ_res[k]),index = disease_organ_data.index)"
   ]
  },
  {
   "cell_type": "code",
   "execution_count": 27,
   "id": "622f3712",
   "metadata": {},
   "outputs": [],
   "source": [
    "organ_res['Brain'] = pd.Series(list(organ_res['Brain']),index = disease_brain.index)"
   ]
  },
  {
   "cell_type": "code",
   "execution_count": 28,
   "id": "e078792a",
   "metadata": {},
   "outputs": [],
   "source": [
    "np.save(\"/share2/pub/zhangyr/zhangyr/myIdea/bioAge/results/202503_8organs_predictions.npy\", organ_res)"
   ]
  },
  {
   "cell_type": "code",
   "execution_count": 29,
   "id": "03ce316a",
   "metadata": {},
   "outputs": [
    {
     "data": {
      "text/plain": [
       "participant.eid\n",
       "4194348    45.619489\n",
       "1048668    50.619777\n",
       "1048673    58.169868\n",
       "5243019    48.963368\n",
       "4194475    58.910777\n",
       "             ...    \n",
       "3145644    51.847736\n",
       "4194231    48.383904\n",
       "3145658    44.597603\n",
       "5242857    48.582966\n",
       "3145722    40.376412\n",
       "Length: 30536, dtype: float64"
      ]
     },
     "execution_count": 29,
     "metadata": {},
     "output_type": "execute_result"
    }
   ],
   "source": [
    "organ_res['Brain']"
   ]
  },
  {
   "cell_type": "code",
   "execution_count": 30,
   "id": "4903d54e",
   "metadata": {},
   "outputs": [
    {
     "ename": "ModuleNotFoundError",
     "evalue": "No module named 'lifelines'",
     "output_type": "error",
     "traceback": [
      "\u001b[0;31m---------------------------------------------------------------------------\u001b[0m",
      "\u001b[0;31mModuleNotFoundError\u001b[0m                       Traceback (most recent call last)",
      "\u001b[0;32m/tmp/ipykernel_330027/3977167493.py\u001b[0m in \u001b[0;36m<module>\u001b[0;34m\u001b[0m\n\u001b[1;32m      2\u001b[0m \u001b[0;32mimport\u001b[0m \u001b[0mnumpy\u001b[0m \u001b[0;32mas\u001b[0m \u001b[0mnp\u001b[0m\u001b[0;34m\u001b[0m\u001b[0;34m\u001b[0m\u001b[0m\n\u001b[1;32m      3\u001b[0m \u001b[0;32mimport\u001b[0m \u001b[0mmatplotlib\u001b[0m\u001b[0;34m.\u001b[0m\u001b[0mpyplot\u001b[0m \u001b[0;32mas\u001b[0m \u001b[0mplt\u001b[0m\u001b[0;34m\u001b[0m\u001b[0;34m\u001b[0m\u001b[0m\n\u001b[0;32m----> 4\u001b[0;31m \u001b[0;32mfrom\u001b[0m \u001b[0mlifelines\u001b[0m \u001b[0;32mimport\u001b[0m \u001b[0mKaplanMeierFitter\u001b[0m\u001b[0;34m\u001b[0m\u001b[0;34m\u001b[0m\u001b[0m\n\u001b[0m\u001b[1;32m      5\u001b[0m \u001b[0;32mfrom\u001b[0m \u001b[0mlifelines\u001b[0m\u001b[0;34m.\u001b[0m\u001b[0mstatistics\u001b[0m \u001b[0;32mimport\u001b[0m \u001b[0mlogrank_test\u001b[0m\u001b[0;34m\u001b[0m\u001b[0;34m\u001b[0m\u001b[0m\n",
      "\u001b[0;31mModuleNotFoundError\u001b[0m: No module named 'lifelines'"
     ]
    }
   ],
   "source": [
    "import pandas as pd\n",
    "import numpy as np\n",
    "import matplotlib.pyplot as plt\n",
    "from lifelines import KaplanMeierFitter\n",
    "from lifelines.statistics import logrank_test"
   ]
  },
  {
   "cell_type": "code",
   "execution_count": 31,
   "id": "436501b5",
   "metadata": {},
   "outputs": [
    {
     "data": {
      "text/html": [
       "<div>\n",
       "<style scoped>\n",
       "    .dataframe tbody tr th:only-of-type {\n",
       "        vertical-align: middle;\n",
       "    }\n",
       "\n",
       "    .dataframe tbody tr th {\n",
       "        vertical-align: top;\n",
       "    }\n",
       "\n",
       "    .dataframe thead th {\n",
       "        text-align: right;\n",
       "    }\n",
       "</style>\n",
       "<table border=\"1\" class=\"dataframe\">\n",
       "  <thead>\n",
       "    <tr style=\"text-align: right;\">\n",
       "      <th></th>\n",
       "      <th>participant.p21022</th>\n",
       "    </tr>\n",
       "    <tr>\n",
       "      <th>participant.eid</th>\n",
       "      <th></th>\n",
       "    </tr>\n",
       "  </thead>\n",
       "  <tbody>\n",
       "    <tr>\n",
       "      <th>1000019.0</th>\n",
       "      <td>62.0</td>\n",
       "    </tr>\n",
       "    <tr>\n",
       "      <th>1000022.0</th>\n",
       "      <td>59.0</td>\n",
       "    </tr>\n",
       "    <tr>\n",
       "      <th>1000035.0</th>\n",
       "      <td>56.0</td>\n",
       "    </tr>\n",
       "    <tr>\n",
       "      <th>1000046.0</th>\n",
       "      <td>59.0</td>\n",
       "    </tr>\n",
       "    <tr>\n",
       "      <th>1000054.0</th>\n",
       "      <td>42.0</td>\n",
       "    </tr>\n",
       "    <tr>\n",
       "      <th>...</th>\n",
       "      <td>...</td>\n",
       "    </tr>\n",
       "    <tr>\n",
       "      <th>6023625.0</th>\n",
       "      <td>53.0</td>\n",
       "    </tr>\n",
       "    <tr>\n",
       "      <th>6023638.0</th>\n",
       "      <td>64.0</td>\n",
       "    </tr>\n",
       "    <tr>\n",
       "      <th>6023642.0</th>\n",
       "      <td>64.0</td>\n",
       "    </tr>\n",
       "    <tr>\n",
       "      <th>6023656.0</th>\n",
       "      <td>53.0</td>\n",
       "    </tr>\n",
       "    <tr>\n",
       "      <th>6023660.0</th>\n",
       "      <td>66.0</td>\n",
       "    </tr>\n",
       "  </tbody>\n",
       "</table>\n",
       "<p>502137 rows × 1 columns</p>\n",
       "</div>"
      ],
      "text/plain": [
       "                 participant.p21022\n",
       "participant.eid                    \n",
       "1000019.0                      62.0\n",
       "1000022.0                      59.0\n",
       "1000035.0                      56.0\n",
       "1000046.0                      59.0\n",
       "1000054.0                      42.0\n",
       "...                             ...\n",
       "6023625.0                      53.0\n",
       "6023638.0                      64.0\n",
       "6023642.0                      64.0\n",
       "6023656.0                      53.0\n",
       "6023660.0                      66.0\n",
       "\n",
       "[502137 rows x 1 columns]"
      ]
     },
     "execution_count": 31,
     "metadata": {},
     "output_type": "execute_result"
    }
   ],
   "source": [
    "eid = set(organ_res['Brain'].index) & set(age.index) & "
   ]
  },
  {
   "cell_type": "code",
   "execution_count": null,
   "id": "a6c4ed10",
   "metadata": {},
   "outputs": [],
   "source": []
  }
 ],
 "metadata": {
  "kernelspec": {
   "display_name": "Python 3 (ipykernel)",
   "language": "python",
   "name": "python3"
  },
  "language_info": {
   "codemirror_mode": {
    "name": "ipython",
    "version": 3
   },
   "file_extension": ".py",
   "mimetype": "text/x-python",
   "name": "python",
   "nbconvert_exporter": "python",
   "pygments_lexer": "ipython3",
   "version": "3.8.8"
  }
 },
 "nbformat": 4,
 "nbformat_minor": 5
}
