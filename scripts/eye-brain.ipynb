{
 "cells": [
  {
   "cell_type": "code",
   "execution_count": 1,
   "id": "7722caf6",
   "metadata": {},
   "outputs": [
    {
     "name": "stderr",
     "output_type": "stream",
     "text": [
      "/share/home/zhangyr/.conda/envs/web_jupyter/lib/python3.8/site-packages/statsmodels/tsa/base/tsa_model.py:7: FutureWarning: pandas.Int64Index is deprecated and will be removed from pandas in a future version. Use pandas.Index with the appropriate dtype instead.\n",
      "  from pandas import (to_datetime, Int64Index, DatetimeIndex, Period,\n",
      "/share/home/zhangyr/.conda/envs/web_jupyter/lib/python3.8/site-packages/statsmodels/tsa/base/tsa_model.py:7: FutureWarning: pandas.Float64Index is deprecated and will be removed from pandas in a future version. Use pandas.Index with the appropriate dtype instead.\n",
      "  from pandas import (to_datetime, Int64Index, DatetimeIndex, Period,\n"
     ]
    },
    {
     "ename": "NameError",
     "evalue": "name 'mpl' is not defined",
     "output_type": "error",
     "traceback": [
      "\u001b[0;31m---------------------------------------------------------------------------\u001b[0m",
      "\u001b[0;31mNameError\u001b[0m                                 Traceback (most recent call last)",
      "\u001b[0;32m/tmp/ipykernel_74165/3007913211.py\u001b[0m in \u001b[0;36m<module>\u001b[0;34m\u001b[0m\n\u001b[1;32m      7\u001b[0m \u001b[0;32mimport\u001b[0m \u001b[0mmatplotlib\u001b[0m\u001b[0;34m.\u001b[0m\u001b[0mpyplot\u001b[0m \u001b[0;32mas\u001b[0m \u001b[0mplt\u001b[0m\u001b[0;34m\u001b[0m\u001b[0;34m\u001b[0m\u001b[0m\n\u001b[1;32m      8\u001b[0m \u001b[0;32mimport\u001b[0m \u001b[0mmatplotlib\u001b[0m \u001b[0;32mas\u001b[0m \u001b[0mmplc\u001b[0m\u001b[0;34m\u001b[0m\u001b[0;34m\u001b[0m\u001b[0m\n\u001b[0;32m----> 9\u001b[0;31m \u001b[0mmpl\u001b[0m\u001b[0;34m.\u001b[0m\u001b[0mrcParams\u001b[0m\u001b[0;34m[\u001b[0m\u001b[0;34m'pdf.fonttype'\u001b[0m\u001b[0;34m]\u001b[0m \u001b[0;34m=\u001b[0m \u001b[0;36m42\u001b[0m\u001b[0;34m\u001b[0m\u001b[0;34m\u001b[0m\u001b[0m\n\u001b[0m\u001b[1;32m     10\u001b[0m \u001b[0mmpl\u001b[0m\u001b[0;34m.\u001b[0m\u001b[0mrcParams\u001b[0m\u001b[0;34m[\u001b[0m\u001b[0;34m'ps.fonttype'\u001b[0m\u001b[0;34m]\u001b[0m \u001b[0;34m=\u001b[0m \u001b[0;36m42\u001b[0m\u001b[0;34m\u001b[0m\u001b[0;34m\u001b[0m\u001b[0m\n",
      "\u001b[0;31mNameError\u001b[0m: name 'mpl' is not defined"
     ]
    }
   ],
   "source": [
    "import pandas as pd\n",
    "import numpy as np\n",
    "import statsmodels.api as sm\n",
    "import seaborn as sns\n",
    "from scipy import stats\n",
    "import os\n",
    "import matplotlib.pyplot as plt\n",
    "import matplotlib as mplc\n",
    "mpl.rcParams['pdf.fonttype'] = 42\n",
    "mpl.rcParams['ps.fonttype'] = 42"
   ]
  },
  {
   "cell_type": "code",
   "execution_count": 117,
   "id": "3de54e7f",
   "metadata": {},
   "outputs": [
    {
     "data": {
      "text/html": [
       "<div>\n",
       "<style scoped>\n",
       "    .dataframe tbody tr th:only-of-type {\n",
       "        vertical-align: middle;\n",
       "    }\n",
       "\n",
       "    .dataframe tbody tr th {\n",
       "        vertical-align: top;\n",
       "    }\n",
       "\n",
       "    .dataframe thead th {\n",
       "        text-align: right;\n",
       "    }\n",
       "</style>\n",
       "<table border=\"1\" class=\"dataframe\">\n",
       "  <thead>\n",
       "    <tr style=\"text-align: right;\">\n",
       "      <th></th>\n",
       "      <th>participant.p5185_i0</th>\n",
       "      <th>participant.p5186_i0</th>\n",
       "      <th>participant.p5187_i0</th>\n",
       "      <th>participant.p5188_i0</th>\n",
       "      <th>participant.p5190_i0</th>\n",
       "      <th>participant.p5193_i0</th>\n",
       "      <th>participant.p5199_i0</th>\n",
       "      <th>participant.p5200_i0</th>\n",
       "      <th>participant.p5201_i0</th>\n",
       "      <th>participant.p5202_i0</th>\n",
       "      <th>...</th>\n",
       "      <th>participant.p28544_i0</th>\n",
       "      <th>participant.p28545_i0</th>\n",
       "      <th>participant.p28546_i0</th>\n",
       "      <th>participant.p28547_i0</th>\n",
       "      <th>participant.p28548_i0</th>\n",
       "      <th>participant.p28549_i0</th>\n",
       "      <th>participant.p28550_i0</th>\n",
       "      <th>participant.p28551_i0</th>\n",
       "      <th>participant.p28552_i0</th>\n",
       "      <th>participant.p28553_i0</th>\n",
       "    </tr>\n",
       "    <tr>\n",
       "      <th>participant.eid</th>\n",
       "      <th></th>\n",
       "      <th></th>\n",
       "      <th></th>\n",
       "      <th></th>\n",
       "      <th></th>\n",
       "      <th></th>\n",
       "      <th></th>\n",
       "      <th></th>\n",
       "      <th></th>\n",
       "      <th></th>\n",
       "      <th></th>\n",
       "      <th></th>\n",
       "      <th></th>\n",
       "      <th></th>\n",
       "      <th></th>\n",
       "      <th></th>\n",
       "      <th></th>\n",
       "      <th></th>\n",
       "      <th></th>\n",
       "      <th></th>\n",
       "      <th></th>\n",
       "    </tr>\n",
       "  </thead>\n",
       "  <tbody>\n",
       "    <tr>\n",
       "      <th>1000019.0</th>\n",
       "      <td>1.0</td>\n",
       "      <td>89.0</td>\n",
       "      <td>1.0</td>\n",
       "      <td>148.0</td>\n",
       "      <td>193.0</td>\n",
       "      <td>253.0</td>\n",
       "      <td>-0.1</td>\n",
       "      <td>5.0</td>\n",
       "      <td>-0.08</td>\n",
       "      <td>3.0</td>\n",
       "      <td>...</td>\n",
       "      <td>NaN</td>\n",
       "      <td>NaN</td>\n",
       "      <td>NaN</td>\n",
       "      <td>NaN</td>\n",
       "      <td>NaN</td>\n",
       "      <td>NaN</td>\n",
       "      <td>NaN</td>\n",
       "      <td>NaN</td>\n",
       "      <td>NaN</td>\n",
       "      <td>NaN</td>\n",
       "    </tr>\n",
       "    <tr>\n",
       "      <th>1000022.0</th>\n",
       "      <td>NaN</td>\n",
       "      <td>NaN</td>\n",
       "      <td>NaN</td>\n",
       "      <td>NaN</td>\n",
       "      <td>NaN</td>\n",
       "      <td>NaN</td>\n",
       "      <td>NaN</td>\n",
       "      <td>NaN</td>\n",
       "      <td>NaN</td>\n",
       "      <td>NaN</td>\n",
       "      <td>...</td>\n",
       "      <td>NaN</td>\n",
       "      <td>NaN</td>\n",
       "      <td>NaN</td>\n",
       "      <td>NaN</td>\n",
       "      <td>NaN</td>\n",
       "      <td>NaN</td>\n",
       "      <td>NaN</td>\n",
       "      <td>NaN</td>\n",
       "      <td>NaN</td>\n",
       "      <td>NaN</td>\n",
       "    </tr>\n",
       "    <tr>\n",
       "      <th>1000035.0</th>\n",
       "      <td>1.0</td>\n",
       "      <td>9.0</td>\n",
       "      <td>1.0</td>\n",
       "      <td>79.0</td>\n",
       "      <td>122.0</td>\n",
       "      <td>163.0</td>\n",
       "      <td>0.2</td>\n",
       "      <td>5.0</td>\n",
       "      <td>0.06</td>\n",
       "      <td>4.0</td>\n",
       "      <td>...</td>\n",
       "      <td>450.0</td>\n",
       "      <td>961.0</td>\n",
       "      <td>0.976016</td>\n",
       "      <td>0.950999</td>\n",
       "      <td>0.955078</td>\n",
       "      <td>2.53711</td>\n",
       "      <td>0.0</td>\n",
       "      <td>0.00000</td>\n",
       "      <td>69.7668</td>\n",
       "      <td>70.5140</td>\n",
       "    </tr>\n",
       "    <tr>\n",
       "      <th>1000046.0</th>\n",
       "      <td>NaN</td>\n",
       "      <td>NaN</td>\n",
       "      <td>NaN</td>\n",
       "      <td>NaN</td>\n",
       "      <td>NaN</td>\n",
       "      <td>NaN</td>\n",
       "      <td>NaN</td>\n",
       "      <td>NaN</td>\n",
       "      <td>NaN</td>\n",
       "      <td>NaN</td>\n",
       "      <td>...</td>\n",
       "      <td>NaN</td>\n",
       "      <td>NaN</td>\n",
       "      <td>NaN</td>\n",
       "      <td>NaN</td>\n",
       "      <td>NaN</td>\n",
       "      <td>NaN</td>\n",
       "      <td>NaN</td>\n",
       "      <td>NaN</td>\n",
       "      <td>NaN</td>\n",
       "      <td>NaN</td>\n",
       "    </tr>\n",
       "    <tr>\n",
       "      <th>1000054.0</th>\n",
       "      <td>1.0</td>\n",
       "      <td>9.0</td>\n",
       "      <td>1.0</td>\n",
       "      <td>53.0</td>\n",
       "      <td>75.0</td>\n",
       "      <td>116.0</td>\n",
       "      <td>-0.2</td>\n",
       "      <td>5.0</td>\n",
       "      <td>-0.10</td>\n",
       "      <td>2.0</td>\n",
       "      <td>...</td>\n",
       "      <td>930.0</td>\n",
       "      <td>961.0</td>\n",
       "      <td>0.976314</td>\n",
       "      <td>0.682629</td>\n",
       "      <td>1.216800</td>\n",
       "      <td>3.49414</td>\n",
       "      <td>0.0</td>\n",
       "      <td>3.49414</td>\n",
       "      <td>76.1145</td>\n",
       "      <td>74.0454</td>\n",
       "    </tr>\n",
       "    <tr>\n",
       "      <th>...</th>\n",
       "      <td>...</td>\n",
       "      <td>...</td>\n",
       "      <td>...</td>\n",
       "      <td>...</td>\n",
       "      <td>...</td>\n",
       "      <td>...</td>\n",
       "      <td>...</td>\n",
       "      <td>...</td>\n",
       "      <td>...</td>\n",
       "      <td>...</td>\n",
       "      <td>...</td>\n",
       "      <td>...</td>\n",
       "      <td>...</td>\n",
       "      <td>...</td>\n",
       "      <td>...</td>\n",
       "      <td>...</td>\n",
       "      <td>...</td>\n",
       "      <td>...</td>\n",
       "      <td>...</td>\n",
       "      <td>...</td>\n",
       "      <td>...</td>\n",
       "    </tr>\n",
       "    <tr>\n",
       "      <th>6023625.0</th>\n",
       "      <td>NaN</td>\n",
       "      <td>NaN</td>\n",
       "      <td>NaN</td>\n",
       "      <td>NaN</td>\n",
       "      <td>NaN</td>\n",
       "      <td>NaN</td>\n",
       "      <td>NaN</td>\n",
       "      <td>NaN</td>\n",
       "      <td>NaN</td>\n",
       "      <td>NaN</td>\n",
       "      <td>...</td>\n",
       "      <td>NaN</td>\n",
       "      <td>NaN</td>\n",
       "      <td>NaN</td>\n",
       "      <td>NaN</td>\n",
       "      <td>NaN</td>\n",
       "      <td>NaN</td>\n",
       "      <td>NaN</td>\n",
       "      <td>NaN</td>\n",
       "      <td>NaN</td>\n",
       "      <td>NaN</td>\n",
       "    </tr>\n",
       "    <tr>\n",
       "      <th>6023638.0</th>\n",
       "      <td>NaN</td>\n",
       "      <td>NaN</td>\n",
       "      <td>NaN</td>\n",
       "      <td>NaN</td>\n",
       "      <td>NaN</td>\n",
       "      <td>NaN</td>\n",
       "      <td>NaN</td>\n",
       "      <td>NaN</td>\n",
       "      <td>NaN</td>\n",
       "      <td>NaN</td>\n",
       "      <td>...</td>\n",
       "      <td>NaN</td>\n",
       "      <td>NaN</td>\n",
       "      <td>NaN</td>\n",
       "      <td>NaN</td>\n",
       "      <td>NaN</td>\n",
       "      <td>NaN</td>\n",
       "      <td>NaN</td>\n",
       "      <td>NaN</td>\n",
       "      <td>NaN</td>\n",
       "      <td>NaN</td>\n",
       "    </tr>\n",
       "    <tr>\n",
       "      <th>6023642.0</th>\n",
       "      <td>1.0</td>\n",
       "      <td>95.0</td>\n",
       "      <td>1.0</td>\n",
       "      <td>172.0</td>\n",
       "      <td>NaN</td>\n",
       "      <td>NaN</td>\n",
       "      <td>0.3</td>\n",
       "      <td>5.0</td>\n",
       "      <td>0.34</td>\n",
       "      <td>2.0</td>\n",
       "      <td>...</td>\n",
       "      <td>NaN</td>\n",
       "      <td>NaN</td>\n",
       "      <td>NaN</td>\n",
       "      <td>NaN</td>\n",
       "      <td>NaN</td>\n",
       "      <td>NaN</td>\n",
       "      <td>NaN</td>\n",
       "      <td>NaN</td>\n",
       "      <td>NaN</td>\n",
       "      <td>NaN</td>\n",
       "    </tr>\n",
       "    <tr>\n",
       "      <th>6023656.0</th>\n",
       "      <td>7.0</td>\n",
       "      <td>33.0</td>\n",
       "      <td>7.0</td>\n",
       "      <td>74.0</td>\n",
       "      <td>78.0</td>\n",
       "      <td>83.0</td>\n",
       "      <td>NaN</td>\n",
       "      <td>NaN</td>\n",
       "      <td>NaN</td>\n",
       "      <td>NaN</td>\n",
       "      <td>...</td>\n",
       "      <td>NaN</td>\n",
       "      <td>NaN</td>\n",
       "      <td>NaN</td>\n",
       "      <td>NaN</td>\n",
       "      <td>NaN</td>\n",
       "      <td>NaN</td>\n",
       "      <td>NaN</td>\n",
       "      <td>NaN</td>\n",
       "      <td>NaN</td>\n",
       "      <td>NaN</td>\n",
       "    </tr>\n",
       "    <tr>\n",
       "      <th>6023660.0</th>\n",
       "      <td>NaN</td>\n",
       "      <td>NaN</td>\n",
       "      <td>NaN</td>\n",
       "      <td>NaN</td>\n",
       "      <td>NaN</td>\n",
       "      <td>NaN</td>\n",
       "      <td>NaN</td>\n",
       "      <td>NaN</td>\n",
       "      <td>NaN</td>\n",
       "      <td>NaN</td>\n",
       "      <td>...</td>\n",
       "      <td>NaN</td>\n",
       "      <td>NaN</td>\n",
       "      <td>NaN</td>\n",
       "      <td>NaN</td>\n",
       "      <td>NaN</td>\n",
       "      <td>NaN</td>\n",
       "      <td>NaN</td>\n",
       "      <td>NaN</td>\n",
       "      <td>NaN</td>\n",
       "      <td>NaN</td>\n",
       "    </tr>\n",
       "  </tbody>\n",
       "</table>\n",
       "<p>502137 rows × 152 columns</p>\n",
       "</div>"
      ],
      "text/plain": [
       "                 participant.p5185_i0  participant.p5186_i0  \\\n",
       "participant.eid                                               \n",
       "1000019.0                         1.0                  89.0   \n",
       "1000022.0                         NaN                   NaN   \n",
       "1000035.0                         1.0                   9.0   \n",
       "1000046.0                         NaN                   NaN   \n",
       "1000054.0                         1.0                   9.0   \n",
       "...                               ...                   ...   \n",
       "6023625.0                         NaN                   NaN   \n",
       "6023638.0                         NaN                   NaN   \n",
       "6023642.0                         1.0                  95.0   \n",
       "6023656.0                         7.0                  33.0   \n",
       "6023660.0                         NaN                   NaN   \n",
       "\n",
       "                 participant.p5187_i0  participant.p5188_i0  \\\n",
       "participant.eid                                               \n",
       "1000019.0                         1.0                 148.0   \n",
       "1000022.0                         NaN                   NaN   \n",
       "1000035.0                         1.0                  79.0   \n",
       "1000046.0                         NaN                   NaN   \n",
       "1000054.0                         1.0                  53.0   \n",
       "...                               ...                   ...   \n",
       "6023625.0                         NaN                   NaN   \n",
       "6023638.0                         NaN                   NaN   \n",
       "6023642.0                         1.0                 172.0   \n",
       "6023656.0                         7.0                  74.0   \n",
       "6023660.0                         NaN                   NaN   \n",
       "\n",
       "                 participant.p5190_i0  participant.p5193_i0  \\\n",
       "participant.eid                                               \n",
       "1000019.0                       193.0                 253.0   \n",
       "1000022.0                         NaN                   NaN   \n",
       "1000035.0                       122.0                 163.0   \n",
       "1000046.0                         NaN                   NaN   \n",
       "1000054.0                        75.0                 116.0   \n",
       "...                               ...                   ...   \n",
       "6023625.0                         NaN                   NaN   \n",
       "6023638.0                         NaN                   NaN   \n",
       "6023642.0                         NaN                   NaN   \n",
       "6023656.0                        78.0                  83.0   \n",
       "6023660.0                         NaN                   NaN   \n",
       "\n",
       "                 participant.p5199_i0  participant.p5200_i0  \\\n",
       "participant.eid                                               \n",
       "1000019.0                        -0.1                   5.0   \n",
       "1000022.0                         NaN                   NaN   \n",
       "1000035.0                         0.2                   5.0   \n",
       "1000046.0                         NaN                   NaN   \n",
       "1000054.0                        -0.2                   5.0   \n",
       "...                               ...                   ...   \n",
       "6023625.0                         NaN                   NaN   \n",
       "6023638.0                         NaN                   NaN   \n",
       "6023642.0                         0.3                   5.0   \n",
       "6023656.0                         NaN                   NaN   \n",
       "6023660.0                         NaN                   NaN   \n",
       "\n",
       "                 participant.p5201_i0  participant.p5202_i0  ...  \\\n",
       "participant.eid                                              ...   \n",
       "1000019.0                       -0.08                   3.0  ...   \n",
       "1000022.0                         NaN                   NaN  ...   \n",
       "1000035.0                        0.06                   4.0  ...   \n",
       "1000046.0                         NaN                   NaN  ...   \n",
       "1000054.0                       -0.10                   2.0  ...   \n",
       "...                               ...                   ...  ...   \n",
       "6023625.0                         NaN                   NaN  ...   \n",
       "6023638.0                         NaN                   NaN  ...   \n",
       "6023642.0                        0.34                   2.0  ...   \n",
       "6023656.0                         NaN                   NaN  ...   \n",
       "6023660.0                         NaN                   NaN  ...   \n",
       "\n",
       "                 participant.p28544_i0  participant.p28545_i0  \\\n",
       "participant.eid                                                 \n",
       "1000019.0                          NaN                    NaN   \n",
       "1000022.0                          NaN                    NaN   \n",
       "1000035.0                        450.0                  961.0   \n",
       "1000046.0                          NaN                    NaN   \n",
       "1000054.0                        930.0                  961.0   \n",
       "...                                ...                    ...   \n",
       "6023625.0                          NaN                    NaN   \n",
       "6023638.0                          NaN                    NaN   \n",
       "6023642.0                          NaN                    NaN   \n",
       "6023656.0                          NaN                    NaN   \n",
       "6023660.0                          NaN                    NaN   \n",
       "\n",
       "                 participant.p28546_i0  participant.p28547_i0  \\\n",
       "participant.eid                                                 \n",
       "1000019.0                          NaN                    NaN   \n",
       "1000022.0                          NaN                    NaN   \n",
       "1000035.0                     0.976016               0.950999   \n",
       "1000046.0                          NaN                    NaN   \n",
       "1000054.0                     0.976314               0.682629   \n",
       "...                                ...                    ...   \n",
       "6023625.0                          NaN                    NaN   \n",
       "6023638.0                          NaN                    NaN   \n",
       "6023642.0                          NaN                    NaN   \n",
       "6023656.0                          NaN                    NaN   \n",
       "6023660.0                          NaN                    NaN   \n",
       "\n",
       "                 participant.p28548_i0  participant.p28549_i0  \\\n",
       "participant.eid                                                 \n",
       "1000019.0                          NaN                    NaN   \n",
       "1000022.0                          NaN                    NaN   \n",
       "1000035.0                     0.955078                2.53711   \n",
       "1000046.0                          NaN                    NaN   \n",
       "1000054.0                     1.216800                3.49414   \n",
       "...                                ...                    ...   \n",
       "6023625.0                          NaN                    NaN   \n",
       "6023638.0                          NaN                    NaN   \n",
       "6023642.0                          NaN                    NaN   \n",
       "6023656.0                          NaN                    NaN   \n",
       "6023660.0                          NaN                    NaN   \n",
       "\n",
       "                 participant.p28550_i0  participant.p28551_i0  \\\n",
       "participant.eid                                                 \n",
       "1000019.0                          NaN                    NaN   \n",
       "1000022.0                          NaN                    NaN   \n",
       "1000035.0                          0.0                0.00000   \n",
       "1000046.0                          NaN                    NaN   \n",
       "1000054.0                          0.0                3.49414   \n",
       "...                                ...                    ...   \n",
       "6023625.0                          NaN                    NaN   \n",
       "6023638.0                          NaN                    NaN   \n",
       "6023642.0                          NaN                    NaN   \n",
       "6023656.0                          NaN                    NaN   \n",
       "6023660.0                          NaN                    NaN   \n",
       "\n",
       "                 participant.p28552_i0  participant.p28553_i0  \n",
       "participant.eid                                                \n",
       "1000019.0                          NaN                    NaN  \n",
       "1000022.0                          NaN                    NaN  \n",
       "1000035.0                      69.7668                70.5140  \n",
       "1000046.0                          NaN                    NaN  \n",
       "1000054.0                      76.1145                74.0454  \n",
       "...                                ...                    ...  \n",
       "6023625.0                          NaN                    NaN  \n",
       "6023638.0                          NaN                    NaN  \n",
       "6023642.0                          NaN                    NaN  \n",
       "6023656.0                          NaN                    NaN  \n",
       "6023660.0                          NaN                    NaN  \n",
       "\n",
       "[502137 rows x 152 columns]"
      ]
     },
     "execution_count": 117,
     "metadata": {},
     "output_type": "execute_result"
    }
   ],
   "source": [
    "eye = pd.read_csv('/share2/pub/zhangyr/zhangyr/myIdea/bioAge/data/UKB/eye/502137_baseline_152features_20241227.csv',index_col=0)\n",
    "eye"
   ]
  },
  {
   "cell_type": "markdown",
   "id": "d67aeeef",
   "metadata": {},
   "source": [
    "## depression"
   ]
  },
  {
   "cell_type": "code",
   "execution_count": 48,
   "id": "01bcbafe",
   "metadata": {},
   "outputs": [],
   "source": [
    "eye = np.load('/share2/pub/zhangyr/zhangyr/myIdea/bioAge/results/eye/SVM_eye_120features_20241227.npy', allow_pickle=True)"
   ]
  },
  {
   "cell_type": "code",
   "execution_count": 49,
   "id": "3c294702",
   "metadata": {},
   "outputs": [
    {
     "data": {
      "text/html": [
       "<div>\n",
       "<style scoped>\n",
       "    .dataframe tbody tr th:only-of-type {\n",
       "        vertical-align: middle;\n",
       "    }\n",
       "\n",
       "    .dataframe tbody tr th {\n",
       "        vertical-align: top;\n",
       "    }\n",
       "\n",
       "    .dataframe thead th {\n",
       "        text-align: right;\n",
       "    }\n",
       "</style>\n",
       "<table border=\"1\" class=\"dataframe\">\n",
       "  <thead>\n",
       "    <tr style=\"text-align: right;\">\n",
       "      <th></th>\n",
       "      <th>age</th>\n",
       "      <th>eye_age</th>\n",
       "    </tr>\n",
       "  </thead>\n",
       "  <tbody>\n",
       "    <tr>\n",
       "      <th>1013198.0</th>\n",
       "      <td>56.0</td>\n",
       "      <td>49.178230</td>\n",
       "    </tr>\n",
       "    <tr>\n",
       "      <th>1020030.0</th>\n",
       "      <td>44.0</td>\n",
       "      <td>48.826876</td>\n",
       "    </tr>\n",
       "    <tr>\n",
       "      <th>1026120.0</th>\n",
       "      <td>50.0</td>\n",
       "      <td>52.267050</td>\n",
       "    </tr>\n",
       "    <tr>\n",
       "      <th>1026585.0</th>\n",
       "      <td>61.0</td>\n",
       "      <td>59.474123</td>\n",
       "    </tr>\n",
       "    <tr>\n",
       "      <th>1028421.0</th>\n",
       "      <td>54.0</td>\n",
       "      <td>54.368467</td>\n",
       "    </tr>\n",
       "    <tr>\n",
       "      <th>...</th>\n",
       "      <td>...</td>\n",
       "      <td>...</td>\n",
       "    </tr>\n",
       "    <tr>\n",
       "      <th>6007345.0</th>\n",
       "      <td>62.0</td>\n",
       "      <td>59.340976</td>\n",
       "    </tr>\n",
       "    <tr>\n",
       "      <th>6009489.0</th>\n",
       "      <td>60.0</td>\n",
       "      <td>65.717309</td>\n",
       "    </tr>\n",
       "    <tr>\n",
       "      <th>6011917.0</th>\n",
       "      <td>48.0</td>\n",
       "      <td>51.005799</td>\n",
       "    </tr>\n",
       "    <tr>\n",
       "      <th>6017086.0</th>\n",
       "      <td>64.0</td>\n",
       "      <td>58.271443</td>\n",
       "    </tr>\n",
       "    <tr>\n",
       "      <th>6017190.0</th>\n",
       "      <td>45.0</td>\n",
       "      <td>53.240713</td>\n",
       "    </tr>\n",
       "  </tbody>\n",
       "</table>\n",
       "<p>9832 rows × 2 columns</p>\n",
       "</div>"
      ],
      "text/plain": [
       "            age    eye_age\n",
       "1013198.0  56.0  49.178230\n",
       "1020030.0  44.0  48.826876\n",
       "1026120.0  50.0  52.267050\n",
       "1026585.0  61.0  59.474123\n",
       "1028421.0  54.0  54.368467\n",
       "...         ...        ...\n",
       "6007345.0  62.0  59.340976\n",
       "6009489.0  60.0  65.717309\n",
       "6011917.0  48.0  51.005799\n",
       "6017086.0  64.0  58.271443\n",
       "6017190.0  45.0  53.240713\n",
       "\n",
       "[9832 rows x 2 columns]"
      ]
     },
     "execution_count": 49,
     "metadata": {},
     "output_type": "execute_result"
    }
   ],
   "source": [
    "age = eye.tolist()['eye-meatures']['female_res']['true_y'] +eye.tolist()['eye-meatures']['male_res']['true_y']\n",
    "eye_age = eye.tolist()['eye-meatures']['female_res']['predicted_y'] +eye.tolist()['eye-meatures']['male_res']['predicted_y']\n",
    "eids = eye.tolist()['eye-meatures']['female_res']['eids'] +eye.tolist()['eye-meatures']['male_res']['eids']\n",
    "eye_predic = pd.DataFrame({'age':age,'eye_age':eye_age}, index =eids )\n",
    "eye_predic"
   ]
  },
  {
   "cell_type": "code",
   "execution_count": 56,
   "id": "8d546618",
   "metadata": {},
   "outputs": [
    {
     "data": {
      "text/html": [
       "<div>\n",
       "<style scoped>\n",
       "    .dataframe tbody tr th:only-of-type {\n",
       "        vertical-align: middle;\n",
       "    }\n",
       "\n",
       "    .dataframe tbody tr th {\n",
       "        vertical-align: top;\n",
       "    }\n",
       "\n",
       "    .dataframe thead th {\n",
       "        text-align: right;\n",
       "    }\n",
       "</style>\n",
       "<table border=\"1\" class=\"dataframe\">\n",
       "  <thead>\n",
       "    <tr style=\"text-align: right;\">\n",
       "      <th></th>\n",
       "      <th>participant.eid</th>\n",
       "      <th>participant.p20519</th>\n",
       "      <th>participant.p20507</th>\n",
       "      <th>participant.p20517</th>\n",
       "      <th>participant.p20508</th>\n",
       "      <th>participant.p20514</th>\n",
       "      <th>participant.p20518</th>\n",
       "      <th>participant.p20510</th>\n",
       "      <th>participant.p20511</th>\n",
       "      <th>participant.p20513</th>\n",
       "      <th>PHQ_9_score</th>\n",
       "      <th>level</th>\n",
       "    </tr>\n",
       "  </thead>\n",
       "  <tbody>\n",
       "    <tr>\n",
       "      <th>2</th>\n",
       "      <td>1000035</td>\n",
       "      <td>1.0</td>\n",
       "      <td>1.0</td>\n",
       "      <td>1.0</td>\n",
       "      <td>1.0</td>\n",
       "      <td>1.0</td>\n",
       "      <td>1.0</td>\n",
       "      <td>3.0</td>\n",
       "      <td>1.0</td>\n",
       "      <td>1.0</td>\n",
       "      <td>11.0</td>\n",
       "      <td>2</td>\n",
       "    </tr>\n",
       "    <tr>\n",
       "      <th>3</th>\n",
       "      <td>1000046</td>\n",
       "      <td>1.0</td>\n",
       "      <td>1.0</td>\n",
       "      <td>1.0</td>\n",
       "      <td>1.0</td>\n",
       "      <td>1.0</td>\n",
       "      <td>1.0</td>\n",
       "      <td>1.0</td>\n",
       "      <td>1.0</td>\n",
       "      <td>1.0</td>\n",
       "      <td>9.0</td>\n",
       "      <td>1</td>\n",
       "    </tr>\n",
       "    <tr>\n",
       "      <th>6</th>\n",
       "      <td>1000078</td>\n",
       "      <td>2.0</td>\n",
       "      <td>2.0</td>\n",
       "      <td>2.0</td>\n",
       "      <td>3.0</td>\n",
       "      <td>1.0</td>\n",
       "      <td>1.0</td>\n",
       "      <td>1.0</td>\n",
       "      <td>2.0</td>\n",
       "      <td>1.0</td>\n",
       "      <td>15.0</td>\n",
       "      <td>3</td>\n",
       "    </tr>\n",
       "    <tr>\n",
       "      <th>10</th>\n",
       "      <td>1000112</td>\n",
       "      <td>1.0</td>\n",
       "      <td>2.0</td>\n",
       "      <td>1.0</td>\n",
       "      <td>1.0</td>\n",
       "      <td>1.0</td>\n",
       "      <td>1.0</td>\n",
       "      <td>1.0</td>\n",
       "      <td>1.0</td>\n",
       "      <td>1.0</td>\n",
       "      <td>10.0</td>\n",
       "      <td>2</td>\n",
       "    </tr>\n",
       "    <tr>\n",
       "      <th>22</th>\n",
       "      <td>1000236</td>\n",
       "      <td>1.0</td>\n",
       "      <td>1.0</td>\n",
       "      <td>1.0</td>\n",
       "      <td>1.0</td>\n",
       "      <td>1.0</td>\n",
       "      <td>1.0</td>\n",
       "      <td>1.0</td>\n",
       "      <td>1.0</td>\n",
       "      <td>1.0</td>\n",
       "      <td>9.0</td>\n",
       "      <td>1</td>\n",
       "    </tr>\n",
       "    <tr>\n",
       "      <th>...</th>\n",
       "      <td>...</td>\n",
       "      <td>...</td>\n",
       "      <td>...</td>\n",
       "      <td>...</td>\n",
       "      <td>...</td>\n",
       "      <td>...</td>\n",
       "      <td>...</td>\n",
       "      <td>...</td>\n",
       "      <td>...</td>\n",
       "      <td>...</td>\n",
       "      <td>...</td>\n",
       "      <td>...</td>\n",
       "    </tr>\n",
       "    <tr>\n",
       "      <th>502128</th>\n",
       "      <td>6023584</td>\n",
       "      <td>1.0</td>\n",
       "      <td>1.0</td>\n",
       "      <td>2.0</td>\n",
       "      <td>1.0</td>\n",
       "      <td>1.0</td>\n",
       "      <td>1.0</td>\n",
       "      <td>1.0</td>\n",
       "      <td>1.0</td>\n",
       "      <td>1.0</td>\n",
       "      <td>10.0</td>\n",
       "      <td>2</td>\n",
       "    </tr>\n",
       "    <tr>\n",
       "      <th>502130</th>\n",
       "      <td>6023609</td>\n",
       "      <td>2.0</td>\n",
       "      <td>1.0</td>\n",
       "      <td>2.0</td>\n",
       "      <td>1.0</td>\n",
       "      <td>1.0</td>\n",
       "      <td>1.0</td>\n",
       "      <td>1.0</td>\n",
       "      <td>1.0</td>\n",
       "      <td>1.0</td>\n",
       "      <td>11.0</td>\n",
       "      <td>2</td>\n",
       "    </tr>\n",
       "    <tr>\n",
       "      <th>502133</th>\n",
       "      <td>6023638</td>\n",
       "      <td>1.0</td>\n",
       "      <td>1.0</td>\n",
       "      <td>1.0</td>\n",
       "      <td>1.0</td>\n",
       "      <td>1.0</td>\n",
       "      <td>1.0</td>\n",
       "      <td>1.0</td>\n",
       "      <td>1.0</td>\n",
       "      <td>1.0</td>\n",
       "      <td>9.0</td>\n",
       "      <td>1</td>\n",
       "    </tr>\n",
       "    <tr>\n",
       "      <th>502134</th>\n",
       "      <td>6023642</td>\n",
       "      <td>1.0</td>\n",
       "      <td>1.0</td>\n",
       "      <td>1.0</td>\n",
       "      <td>1.0</td>\n",
       "      <td>1.0</td>\n",
       "      <td>1.0</td>\n",
       "      <td>1.0</td>\n",
       "      <td>1.0</td>\n",
       "      <td>1.0</td>\n",
       "      <td>9.0</td>\n",
       "      <td>1</td>\n",
       "    </tr>\n",
       "    <tr>\n",
       "      <th>502135</th>\n",
       "      <td>6023656</td>\n",
       "      <td>2.0</td>\n",
       "      <td>1.0</td>\n",
       "      <td>3.0</td>\n",
       "      <td>1.0</td>\n",
       "      <td>1.0</td>\n",
       "      <td>1.0</td>\n",
       "      <td>2.0</td>\n",
       "      <td>1.0</td>\n",
       "      <td>1.0</td>\n",
       "      <td>13.0</td>\n",
       "      <td>2</td>\n",
       "    </tr>\n",
       "  </tbody>\n",
       "</table>\n",
       "<p>157230 rows × 12 columns</p>\n",
       "</div>"
      ],
      "text/plain": [
       "        participant.eid  participant.p20519  participant.p20507  \\\n",
       "2               1000035                 1.0                 1.0   \n",
       "3               1000046                 1.0                 1.0   \n",
       "6               1000078                 2.0                 2.0   \n",
       "10              1000112                 1.0                 2.0   \n",
       "22              1000236                 1.0                 1.0   \n",
       "...                 ...                 ...                 ...   \n",
       "502128          6023584                 1.0                 1.0   \n",
       "502130          6023609                 2.0                 1.0   \n",
       "502133          6023638                 1.0                 1.0   \n",
       "502134          6023642                 1.0                 1.0   \n",
       "502135          6023656                 2.0                 1.0   \n",
       "\n",
       "        participant.p20517  participant.p20508  participant.p20514  \\\n",
       "2                      1.0                 1.0                 1.0   \n",
       "3                      1.0                 1.0                 1.0   \n",
       "6                      2.0                 3.0                 1.0   \n",
       "10                     1.0                 1.0                 1.0   \n",
       "22                     1.0                 1.0                 1.0   \n",
       "...                    ...                 ...                 ...   \n",
       "502128                 2.0                 1.0                 1.0   \n",
       "502130                 2.0                 1.0                 1.0   \n",
       "502133                 1.0                 1.0                 1.0   \n",
       "502134                 1.0                 1.0                 1.0   \n",
       "502135                 3.0                 1.0                 1.0   \n",
       "\n",
       "        participant.p20518  participant.p20510  participant.p20511  \\\n",
       "2                      1.0                 3.0                 1.0   \n",
       "3                      1.0                 1.0                 1.0   \n",
       "6                      1.0                 1.0                 2.0   \n",
       "10                     1.0                 1.0                 1.0   \n",
       "22                     1.0                 1.0                 1.0   \n",
       "...                    ...                 ...                 ...   \n",
       "502128                 1.0                 1.0                 1.0   \n",
       "502130                 1.0                 1.0                 1.0   \n",
       "502133                 1.0                 1.0                 1.0   \n",
       "502134                 1.0                 1.0                 1.0   \n",
       "502135                 1.0                 2.0                 1.0   \n",
       "\n",
       "        participant.p20513  PHQ_9_score  level  \n",
       "2                      1.0         11.0      2  \n",
       "3                      1.0          9.0      1  \n",
       "6                      1.0         15.0      3  \n",
       "10                     1.0         10.0      2  \n",
       "22                     1.0          9.0      1  \n",
       "...                    ...          ...    ...  \n",
       "502128                 1.0         10.0      2  \n",
       "502130                 1.0         11.0      2  \n",
       "502133                 1.0          9.0      1  \n",
       "502134                 1.0          9.0      1  \n",
       "502135                 1.0         13.0      2  \n",
       "\n",
       "[157230 rows x 12 columns]"
      ]
     },
     "execution_count": 56,
     "metadata": {},
     "output_type": "execute_result"
    }
   ],
   "source": [
    "depression = pd.read_csv('/share2/pub/zhangyr/zhangyr/myIdea/bioAge/data/UKB/brain/depression_all.csv',index_col=0)\n",
    "depression"
   ]
  },
  {
   "cell_type": "code",
   "execution_count": 57,
   "id": "a6f386a3",
   "metadata": {},
   "outputs": [],
   "source": [
    "depression.index = depression['participant.eid']"
   ]
  },
  {
   "cell_type": "code",
   "execution_count": 58,
   "id": "07fcacba",
   "metadata": {},
   "outputs": [
    {
     "data": {
      "text/plain": [
       "3844"
      ]
     },
     "execution_count": 58,
     "metadata": {},
     "output_type": "execute_result"
    }
   ],
   "source": [
    "inter_id = set(eye_predic.index) & set(depression.index)\n",
    "len(inter_id)"
   ]
  },
  {
   "cell_type": "code",
   "execution_count": 62,
   "id": "08433d4e",
   "metadata": {},
   "outputs": [
    {
     "name": "stderr",
     "output_type": "stream",
     "text": [
      "/tmp/ipykernel_199526/2789153856.py:1: FutureWarning: Passing a set as an indexer is deprecated and will raise in a future version. Use a list instead.\n",
      "  eye_predic = eye_predic.loc[inter_id]\n"
     ]
    }
   ],
   "source": [
    "eye_predic = eye_predic.loc[inter_id]"
   ]
  },
  {
   "cell_type": "code",
   "execution_count": 63,
   "id": "720eadf3",
   "metadata": {},
   "outputs": [
    {
     "name": "stderr",
     "output_type": "stream",
     "text": [
      "/tmp/ipykernel_199526/1388692595.py:1: FutureWarning: Passing a set as an indexer is deprecated and will raise in a future version. Use a list instead.\n",
      "  eye_predic['PHQ_9_score'] = depression.loc[inter_id][['PHQ_9_score']]\n",
      "/tmp/ipykernel_199526/1388692595.py:2: FutureWarning: Passing a set as an indexer is deprecated and will raise in a future version. Use a list instead.\n",
      "  eye_predic['level'] = depression.loc[inter_id][['level']]\n"
     ]
    }
   ],
   "source": [
    "eye_predic = eye_predic.loc[inter_id]\n",
    "eye_predic['PHQ_9_score'] = depression.loc[inter_id][['PHQ_9_score']]\n",
    "eye_predic['level'] = depression.loc[inter_id][['level']]"
   ]
  },
  {
   "cell_type": "code",
   "execution_count": 64,
   "id": "bc1d10a3",
   "metadata": {},
   "outputs": [
    {
     "data": {
      "text/html": [
       "<div>\n",
       "<style scoped>\n",
       "    .dataframe tbody tr th:only-of-type {\n",
       "        vertical-align: middle;\n",
       "    }\n",
       "\n",
       "    .dataframe tbody tr th {\n",
       "        vertical-align: top;\n",
       "    }\n",
       "\n",
       "    .dataframe thead th {\n",
       "        text-align: right;\n",
       "    }\n",
       "</style>\n",
       "<table border=\"1\" class=\"dataframe\">\n",
       "  <thead>\n",
       "    <tr style=\"text-align: right;\">\n",
       "      <th></th>\n",
       "      <th>age</th>\n",
       "      <th>eye_age</th>\n",
       "      <th>PHQ_9_score</th>\n",
       "      <th>level</th>\n",
       "    </tr>\n",
       "  </thead>\n",
       "  <tbody>\n",
       "    <tr>\n",
       "      <th>5840899.0</th>\n",
       "      <td>57.0</td>\n",
       "      <td>58.642721</td>\n",
       "      <td>11.0</td>\n",
       "      <td>2</td>\n",
       "    </tr>\n",
       "    <tr>\n",
       "      <th>3629059.0</th>\n",
       "      <td>61.0</td>\n",
       "      <td>60.407795</td>\n",
       "      <td>12.0</td>\n",
       "      <td>2</td>\n",
       "    </tr>\n",
       "    <tr>\n",
       "      <th>2179081.0</th>\n",
       "      <td>61.0</td>\n",
       "      <td>55.221802</td>\n",
       "      <td>14.0</td>\n",
       "      <td>2</td>\n",
       "    </tr>\n",
       "    <tr>\n",
       "      <th>2670605.0</th>\n",
       "      <td>46.0</td>\n",
       "      <td>55.582126</td>\n",
       "      <td>10.0</td>\n",
       "      <td>2</td>\n",
       "    </tr>\n",
       "    <tr>\n",
       "      <th>3866638.0</th>\n",
       "      <td>64.0</td>\n",
       "      <td>55.286774</td>\n",
       "      <td>11.0</td>\n",
       "      <td>2</td>\n",
       "    </tr>\n",
       "    <tr>\n",
       "      <th>...</th>\n",
       "      <td>...</td>\n",
       "      <td>...</td>\n",
       "      <td>...</td>\n",
       "      <td>...</td>\n",
       "    </tr>\n",
       "    <tr>\n",
       "      <th>4374513.0</th>\n",
       "      <td>44.0</td>\n",
       "      <td>43.405244</td>\n",
       "      <td>9.0</td>\n",
       "      <td>1</td>\n",
       "    </tr>\n",
       "    <tr>\n",
       "      <th>1343474.0</th>\n",
       "      <td>62.0</td>\n",
       "      <td>52.578325</td>\n",
       "      <td>9.0</td>\n",
       "      <td>1</td>\n",
       "    </tr>\n",
       "    <tr>\n",
       "      <th>3973111.0</th>\n",
       "      <td>65.0</td>\n",
       "      <td>56.188470</td>\n",
       "      <td>9.0</td>\n",
       "      <td>1</td>\n",
       "    </tr>\n",
       "    <tr>\n",
       "      <th>5382137.0</th>\n",
       "      <td>63.0</td>\n",
       "      <td>57.585846</td>\n",
       "      <td>9.0</td>\n",
       "      <td>1</td>\n",
       "    </tr>\n",
       "    <tr>\n",
       "      <th>1916925.0</th>\n",
       "      <td>53.0</td>\n",
       "      <td>52.919580</td>\n",
       "      <td>9.0</td>\n",
       "      <td>1</td>\n",
       "    </tr>\n",
       "  </tbody>\n",
       "</table>\n",
       "<p>3844 rows × 4 columns</p>\n",
       "</div>"
      ],
      "text/plain": [
       "            age    eye_age  PHQ_9_score  level\n",
       "5840899.0  57.0  58.642721         11.0      2\n",
       "3629059.0  61.0  60.407795         12.0      2\n",
       "2179081.0  61.0  55.221802         14.0      2\n",
       "2670605.0  46.0  55.582126         10.0      2\n",
       "3866638.0  64.0  55.286774         11.0      2\n",
       "...         ...        ...          ...    ...\n",
       "4374513.0  44.0  43.405244          9.0      1\n",
       "1343474.0  62.0  52.578325          9.0      1\n",
       "3973111.0  65.0  56.188470          9.0      1\n",
       "5382137.0  63.0  57.585846          9.0      1\n",
       "1916925.0  53.0  52.919580          9.0      1\n",
       "\n",
       "[3844 rows x 4 columns]"
      ]
     },
     "execution_count": 64,
     "metadata": {},
     "output_type": "execute_result"
    }
   ],
   "source": [
    "eye_predic"
   ]
  },
  {
   "cell_type": "code",
   "execution_count": 70,
   "id": "6a080799",
   "metadata": {},
   "outputs": [],
   "source": [
    "eye_predic['gap'] = eye_predic['eye_age'] - eye_predic['age']"
   ]
  },
  {
   "cell_type": "code",
   "execution_count": 65,
   "id": "c4e68e48",
   "metadata": {},
   "outputs": [
    {
     "name": "stderr",
     "output_type": "stream",
     "text": [
      "/share/home/zhangyr/.conda/envs/web_jupyter/lib/python3.8/site-packages/statsmodels/tsa/tsatools.py:142: FutureWarning: In a future version of pandas all arguments of concat except for the argument 'objs' will be keyword-only.\n",
      "  x = pd.concat(x[::order], 1)\n"
     ]
    },
    {
     "data": {
      "text/plain": [
       "5840899.0    3.617241\n",
       "3629059.0    4.230673\n",
       "2179081.0   -0.955321\n",
       "2670605.0    3.723664\n",
       "3866638.0   -1.754081\n",
       "               ...   \n",
       "4374513.0   -7.877397\n",
       "1343474.0   -3.886708\n",
       "3973111.0   -1.140295\n",
       "5382137.0    0.832901\n",
       "1916925.0   -0.954257\n",
       "Length: 3844, dtype: float64"
      ]
     },
     "execution_count": 65,
     "metadata": {},
     "output_type": "execute_result"
    }
   ],
   "source": [
    "# 进行回归分析，预测生物学年龄\n",
    "X = eye_predic['age']\n",
    "X = sm.add_constant(X)  # 加上常数项\n",
    "y = eye_predic['eye_age']\n",
    "\n",
    "# 构建线性回归模型并拟合\n",
    "model = sm.OLS(y, X).fit()\n",
    "model.resid"
   ]
  },
  {
   "cell_type": "code",
   "execution_count": 66,
   "id": "9181dad6",
   "metadata": {},
   "outputs": [],
   "source": [
    "# 获取回归的残差（衰老偏差 ∆）\n",
    "eye_predic['aging_divergence'] =model.resid"
   ]
  },
  {
   "cell_type": "code",
   "execution_count": 71,
   "id": "2d1dded2",
   "metadata": {},
   "outputs": [
    {
     "name": "stdout",
     "output_type": "stream",
     "text": [
      "0.016963539765705353\n",
      "0.29304137664173335\n"
     ]
    }
   ],
   "source": [
    "from scipy.stats import pearsonr\n",
    "corr, p_value = pearsonr(eye_predic['PHQ_9_score'], eye_predic['gap'])\n",
    "print(corr)\n",
    "print(p_value)"
   ]
  },
  {
   "cell_type": "code",
   "execution_count": 72,
   "id": "55004af2",
   "metadata": {},
   "outputs": [
    {
     "data": {
      "text/plain": [
       "<AxesSubplot: xlabel='level', ylabel='gap'>"
      ]
     },
     "execution_count": 72,
     "metadata": {},
     "output_type": "execute_result"
    },
    {
     "data": {
      "image/png": "[encoded data removed]",
      "text/plain": [
       "<Figure size 432x288 with 1 Axes>"
      ]
     },
     "metadata": {
      "needs_background": "light"
     },
     "output_type": "display_data"
    }
   ],
   "source": [
    "sns.boxplot(data=eye_predic, x=\"level\", y=\"gap\")"
   ]
  },
  {
   "cell_type": "code",
   "execution_count": 74,
   "id": "69258704",
   "metadata": {},
   "outputs": [],
   "source": [
    "eye_predic['if_depression'] = eye_predic['level']>0 "
   ]
  },
  {
   "cell_type": "code",
   "execution_count": 76,
   "id": "2273b0f0",
   "metadata": {},
   "outputs": [
    {
     "data": {
      "text/plain": [
       "<AxesSubplot: xlabel='if_depression', ylabel='gap'>"
      ]
     },
     "execution_count": 76,
     "metadata": {},
     "output_type": "execute_result"
    },
    {
     "data": {
      "image/png": "[encoded data removed]",
      "text/plain": [
       "<Figure size 432x288 with 1 Axes>"
      ]
     },
     "metadata": {
      "needs_background": "light"
     },
     "output_type": "display_data"
    }
   ],
   "source": [
    "sns.boxplot(data=eye_predic, x=\"if_depression\", y=\"gap\")"
   ]
  },
  {
   "cell_type": "code",
   "execution_count": 78,
   "id": "bd887f5a",
   "metadata": {},
   "outputs": [
    {
     "data": {
      "text/plain": [
       "Series([], Name: gap, dtype: float64)"
      ]
     },
     "execution_count": 78,
     "metadata": {},
     "output_type": "execute_result"
    }
   ],
   "source": [
    "eye_predic['gap'][eye_predic['if_depression'] == 'True']"
   ]
  },
  {
   "cell_type": "code",
   "execution_count": 79,
   "id": "d000e87a",
   "metadata": {},
   "outputs": [
    {
     "data": {
      "text/plain": [
       "Ttest_indResult(statistic=0.6782195540252042, pvalue=0.5002361867995003)"
      ]
     },
     "execution_count": 79,
     "metadata": {},
     "output_type": "execute_result"
    }
   ],
   "source": [
    "stats.ttest_ind(eye_predic['gap'][eye_predic['if_depression'] == True], \n",
    "                eye_predic['gap'][eye_predic['if_depression'] == False], equal_var=False)"
   ]
  },
  {
   "cell_type": "code",
   "execution_count": 80,
   "id": "6cbd333d",
   "metadata": {},
   "outputs": [],
   "source": [
    "eye_predic['age_direct'] = eye_predic['gap']>0"
   ]
  },
  {
   "cell_type": "code",
   "execution_count": 81,
   "id": "96e8b1c3",
   "metadata": {},
   "outputs": [
    {
     "data": {
      "text/plain": [
       "Ttest_indResult(statistic=5.70297318679773, pvalue=1.2682193746955681e-08)"
      ]
     },
     "execution_count": 81,
     "metadata": {},
     "output_type": "execute_result"
    }
   ],
   "source": [
    "stats.ttest_ind(eye_predic['level'][eye_predic['age_direct'] == True], \n",
    "                eye_predic['level'][eye_predic['age_direct'] == False], equal_var=False)"
   ]
  },
  {
   "cell_type": "code",
   "execution_count": 84,
   "id": "ae1474a8",
   "metadata": {},
   "outputs": [
    {
     "data": {
      "text/plain": [
       "1.8450860632981676"
      ]
     },
     "execution_count": 84,
     "metadata": {},
     "output_type": "execute_result"
    }
   ],
   "source": [
    "np.mean(eye_predic['level'][eye_predic['age_direct'] == True])"
   ]
  },
  {
   "cell_type": "code",
   "execution_count": 85,
   "id": "5898d6bd",
   "metadata": {},
   "outputs": [
    {
     "data": {
      "text/plain": [
       "1.7063142437591776"
      ]
     },
     "execution_count": 85,
     "metadata": {},
     "output_type": "execute_result"
    }
   ],
   "source": [
    "np.mean(eye_predic['level'][eye_predic['age_direct'] == False])"
   ]
  },
  {
   "cell_type": "code",
   "execution_count": 87,
   "id": "e41dea4d",
   "metadata": {},
   "outputs": [
    {
     "data": {
      "text/plain": [
       "(0.06584705539520146, 0.00518156597621606)"
      ]
     },
     "execution_count": 87,
     "metadata": {},
     "output_type": "execute_result"
    }
   ],
   "source": [
    "pearsonr(eye_predic['level'][eye_predic['age_direct'] == True], eye_predic['gap'][eye_predic['age_direct'] == True])"
   ]
  },
  {
   "cell_type": "code",
   "execution_count": 82,
   "id": "0cbd4637",
   "metadata": {},
   "outputs": [
    {
     "data": {
      "text/plain": [
       "Ttest_indResult(statistic=2.0978571270094504, pvalue=0.03598619580914193)"
      ]
     },
     "execution_count": 82,
     "metadata": {},
     "output_type": "execute_result"
    }
   ],
   "source": [
    "stats.ttest_ind(eye_predic['PHQ_9_score'][eye_predic['age_direct'] == True], \n",
    "                eye_predic['PHQ_9_score'][eye_predic['age_direct'] == False], equal_var=False)"
   ]
  },
  {
   "cell_type": "code",
   "execution_count": 2,
   "id": "c619ad31",
   "metadata": {},
   "outputs": [
    {
     "data": {
      "text/html": [
       "<div>\n",
       "<style scoped>\n",
       "    .dataframe tbody tr th:only-of-type {\n",
       "        vertical-align: middle;\n",
       "    }\n",
       "\n",
       "    .dataframe tbody tr th {\n",
       "        vertical-align: top;\n",
       "    }\n",
       "\n",
       "    .dataframe thead th {\n",
       "        text-align: right;\n",
       "    }\n",
       "</style>\n",
       "<table border=\"1\" class=\"dataframe\">\n",
       "  <thead>\n",
       "    <tr style=\"text-align: right;\">\n",
       "      <th></th>\n",
       "      <th>True Age</th>\n",
       "      <th>Predicted Age</th>\n",
       "    </tr>\n",
       "    <tr>\n",
       "      <th>eid</th>\n",
       "      <th></th>\n",
       "      <th></th>\n",
       "    </tr>\n",
       "  </thead>\n",
       "  <tbody>\n",
       "    <tr>\n",
       "      <th>4542038</th>\n",
       "      <td>57</td>\n",
       "      <td>57</td>\n",
       "    </tr>\n",
       "    <tr>\n",
       "      <th>4467173</th>\n",
       "      <td>62</td>\n",
       "      <td>59</td>\n",
       "    </tr>\n",
       "    <tr>\n",
       "      <th>1853560</th>\n",
       "      <td>50</td>\n",
       "      <td>50</td>\n",
       "    </tr>\n",
       "    <tr>\n",
       "      <th>4482541</th>\n",
       "      <td>58</td>\n",
       "      <td>55</td>\n",
       "    </tr>\n",
       "    <tr>\n",
       "      <th>2469700</th>\n",
       "      <td>55</td>\n",
       "      <td>53</td>\n",
       "    </tr>\n",
       "    <tr>\n",
       "      <th>...</th>\n",
       "      <td>...</td>\n",
       "      <td>...</td>\n",
       "    </tr>\n",
       "    <tr>\n",
       "      <th>6011917</th>\n",
       "      <td>48</td>\n",
       "      <td>54</td>\n",
       "    </tr>\n",
       "    <tr>\n",
       "      <th>1736514</th>\n",
       "      <td>56</td>\n",
       "      <td>53</td>\n",
       "    </tr>\n",
       "    <tr>\n",
       "      <th>4138795</th>\n",
       "      <td>47</td>\n",
       "      <td>47</td>\n",
       "    </tr>\n",
       "    <tr>\n",
       "      <th>5044690</th>\n",
       "      <td>43</td>\n",
       "      <td>53</td>\n",
       "    </tr>\n",
       "    <tr>\n",
       "      <th>2776060</th>\n",
       "      <td>46</td>\n",
       "      <td>46</td>\n",
       "    </tr>\n",
       "  </tbody>\n",
       "</table>\n",
       "<p>22671 rows × 2 columns</p>\n",
       "</div>"
      ],
      "text/plain": [
       "         True Age  Predicted Age\n",
       "eid                             \n",
       "4542038        57             57\n",
       "4467173        62             59\n",
       "1853560        50             50\n",
       "4482541        58             55\n",
       "2469700        55             53\n",
       "...           ...            ...\n",
       "6011917        48             54\n",
       "1736514        56             53\n",
       "4138795        47             47\n",
       "5044690        43             53\n",
       "2776060        46             46\n",
       "\n",
       "[22671 rows x 2 columns]"
      ]
     },
     "execution_count": 2,
     "metadata": {},
     "output_type": "execute_result"
    }
   ],
   "source": [
    "img_age = pd.read_csv('/share2/pub/zhangyr/zhangyr/myIdea/bioAge/results/eye/eyeAge_fundus_20250109.csv',index_col=0)\n",
    "img_age"
   ]
  },
  {
   "cell_type": "code",
   "execution_count": 6,
   "id": "e41741a3",
   "metadata": {},
   "outputs": [],
   "source": [
    "img_age['True Age'] = img_age['True Age'].astype('float')\n",
    "img_age['Predicted Age'] = img_age['Predicted Age'].astype('float')"
   ]
  },
  {
   "cell_type": "code",
   "execution_count": 29,
   "id": "88c323b9",
   "metadata": {},
   "outputs": [],
   "source": [
    "img_age = img_age.loc[img_age['True Age'].sort_values().index]"
   ]
  },
  {
   "cell_type": "code",
   "execution_count": 36,
   "id": "24c1de7f",
   "metadata": {},
   "outputs": [
    {
     "data": {
      "text/plain": [
       "0.8206068546246729"
      ]
     },
     "execution_count": 36,
     "metadata": {},
     "output_type": "execute_result"
    }
   ],
   "source": [
    "from scipy.stats import pearsonr\n",
    "r, _ = pearsonr(img_age['True Age'], img_age['Predicted Age'])\n",
    "r"
   ]
  },
  {
   "cell_type": "code",
   "execution_count": 38,
   "id": "9d06b26c",
   "metadata": {},
   "outputs": [
    {
     "data": {
      "text/plain": [
       "3.574134043861447"
      ]
     },
     "execution_count": 38,
     "metadata": {},
     "output_type": "execute_result"
    }
   ],
   "source": [
    "from sklearn.metrics import mean_absolute_error\n",
    "mean_absolute_error(img_age['True Age'], img_age['Predicted Age'])"
   ]
  },
  {
   "cell_type": "code",
   "execution_count": 43,
   "id": "2add1f14",
   "metadata": {},
   "outputs": [
    {
     "data": {
      "text/plain": [
       "Text(33, 33, 'r = 0.82\\nMAE = 3.57')"
      ]
     },
     "execution_count": 43,
     "metadata": {},
     "output_type": "execute_result"
    },
    {
     "data": {
      "image/png": "[encoded data removed]",
      "text/plain": [
       "<Figure size 360x288 with 1 Axes>"
      ]
     },
     "metadata": {
      "needs_background": "light"
     },
     "output_type": "display_data"
    }
   ],
   "source": [
    "from matplotlib import colors \n",
    "plt.figure(figsize=(5, 4))\n",
    "plt.hist2d(img_age['True Age'], img_age['Predicted Age'], bins=30, cmap=\"viridis\", norm = colors.LogNorm())\n",
    "plt.xlabel('Chronological age (years)',fontsize=12)\n",
    "plt.ylabel('Predicted age (years)',fontsize=12)\n",
    "#plt.title(sex+': '+organ+' ('+str(num_features)+' features)')\n",
    "plt.xlim(30,75)\n",
    "plt.ylim(30,75)\n",
    "\n",
    "m, b = np.polyfit(img_age['True Age'], img_age['Predicted Age'], 1)  # 线性拟合\n",
    "plt.plot(list(img_age['True Age']), list(m * np.array(img_age['True Age']) + b), color='red', label='Fit line')\n",
    "plt.text(33, 33, f\"r = {0.82:.2f}\\nMAE = {3.57:.2f}\", \n",
    "             fontsize=12, color='black')"
   ]
  },
  {
   "cell_type": "code",
   "execution_count": 19,
   "id": "f99b0301",
   "metadata": {},
   "outputs": [],
   "source": [
    "x = list(img_age['True Age'])\n",
    "y = list(m * np.array(img_age['Predicted Age']) + b)"
   ]
  },
  {
   "cell_type": "code",
   "execution_count": 22,
   "id": "90c82fd3",
   "metadata": {},
   "outputs": [
    {
     "data": {
      "text/plain": [
       "[62.0, 50.0, 58.0, 55.0, 48.0]"
      ]
     },
     "execution_count": 22,
     "metadata": {},
     "output_type": "execute_result"
    }
   ],
   "source": [
    "x[1:6]"
   ]
  },
  {
   "cell_type": "code",
   "execution_count": 23,
   "id": "0dd1b8d4",
   "metadata": {},
   "outputs": [
    {
     "data": {
      "text/plain": [
       "[57.07552049309998,\n",
       " 51.122059886606905,\n",
       " 54.42953800132528,\n",
       " 53.10654675543793,\n",
       " 53.76804237838161]"
      ]
     },
     "execution_count": 23,
     "metadata": {},
     "output_type": "execute_result"
    }
   ],
   "source": [
    "y[1:6]"
   ]
  },
  {
   "cell_type": "code",
   "execution_count": 157,
   "id": "de0efa46",
   "metadata": {},
   "outputs": [
    {
     "data": {
      "text/plain": [
       "8786"
      ]
     },
     "execution_count": 157,
     "metadata": {},
     "output_type": "execute_result"
    }
   ],
   "source": [
    "depression = pd.read_csv('/share2/pub/zhangyr/zhangyr/myIdea/bioAge/data/UKB/brain/depression_all.csv',index_col=1)\n",
    "inter_id = set(img_age.index) & set(depression.index)\n",
    "len(inter_id)"
   ]
  },
  {
   "cell_type": "code",
   "execution_count": 158,
   "id": "5c8dafaf",
   "metadata": {},
   "outputs": [
    {
     "name": "stderr",
     "output_type": "stream",
     "text": [
      "/tmp/ipykernel_199526/3986213138.py:1: FutureWarning: Passing a set as an indexer is deprecated and will raise in a future version. Use a list instead.\n",
      "  img_age = img_age.loc[inter_id]\n",
      "/tmp/ipykernel_199526/3986213138.py:2: FutureWarning: Passing a set as an indexer is deprecated and will raise in a future version. Use a list instead.\n",
      "  img_age['PHQ_9_score'] = depression.loc[inter_id][['PHQ_9_score']]\n",
      "/tmp/ipykernel_199526/3986213138.py:3: FutureWarning: Passing a set as an indexer is deprecated and will raise in a future version. Use a list instead.\n",
      "  img_age['level'] = depression.loc[inter_id][['level']]\n"
     ]
    }
   ],
   "source": [
    "img_age = img_age.loc[inter_id]\n",
    "img_age['PHQ_9_score'] = depression.loc[inter_id][['PHQ_9_score']]\n",
    "img_age['level'] = depression.loc[inter_id][['level']]"
   ]
  },
  {
   "cell_type": "code",
   "execution_count": 159,
   "id": "34ca961f",
   "metadata": {},
   "outputs": [],
   "source": [
    "img_age['gap'] = img_age['Predicted Age'] - img_age['True Age']"
   ]
  },
  {
   "cell_type": "code",
   "execution_count": 164,
   "id": "51aab5aa",
   "metadata": {},
   "outputs": [
    {
     "name": "stderr",
     "output_type": "stream",
     "text": [
      "/tmp/ipykernel_199526/614550437.py:1: SettingWithCopyWarning: \n",
      "A value is trying to be set on a copy of a slice from a DataFrame\n",
      "\n",
      "See the caveats in the documentation: https://pandas.pydata.org/pandas-docs/stable/user_guide/indexing.html#returning-a-view-versus-a-copy\n",
      "  img_age['PHQ_9_score'][img_age['PHQ_9_score']<0] = 0\n"
     ]
    }
   ],
   "source": [
    "img_age['PHQ_9_score'][img_age['PHQ_9_score']<0] = 0\n",
    "img_age['if_depression'] = img_age['level']>0 \n",
    "img_age['age_direct'] = img_age['gap']>0\n"
   ]
  },
  {
   "cell_type": "code",
   "execution_count": 165,
   "id": "bc41a30b",
   "metadata": {},
   "outputs": [
    {
     "data": {
      "text/plain": [
       "Ttest_indResult(statistic=7.173993747468999, pvalue=7.876211565307437e-13)"
      ]
     },
     "execution_count": 165,
     "metadata": {},
     "output_type": "execute_result"
    }
   ],
   "source": [
    "stats.ttest_ind(img_age['PHQ_9_score'][img_age['age_direct'] == True], \n",
    "                img_age['PHQ_9_score'][img_age['age_direct'] == False], equal_var=False)"
   ]
  },
  {
   "cell_type": "code",
   "execution_count": 166,
   "id": "f4e0f76b",
   "metadata": {},
   "outputs": [
    {
     "data": {
      "text/plain": [
       "Ttest_indResult(statistic=0.39499219093816873, pvalue=0.6934130109976853)"
      ]
     },
     "execution_count": 166,
     "metadata": {},
     "output_type": "execute_result"
    }
   ],
   "source": [
    "stats.ttest_ind(img_age['gap'][img_age['if_depression'] == True], \n",
    "                img_age['gap'][img_age['if_depression'] == False], equal_var=False)"
   ]
  },
  {
   "cell_type": "code",
   "execution_count": 167,
   "id": "21402fef",
   "metadata": {},
   "outputs": [
    {
     "data": {
      "text/plain": [
       "<AxesSubplot: xlabel='age_direct', ylabel='PHQ_9_score'>"
      ]
     },
     "execution_count": 167,
     "metadata": {},
     "output_type": "execute_result"
    },
    {
     "data": {
      "image/png": "[encoded data removed]",
      "text/plain": [
       "<Figure size 432x288 with 1 Axes>"
      ]
     },
     "metadata": {
      "needs_background": "light"
     },
     "output_type": "display_data"
    }
   ],
   "source": [
    "sns.boxplot(data=img_age, x=\"age_direct\", y=\"PHQ_9_score\")"
   ]
  },
  {
   "cell_type": "code",
   "execution_count": 111,
   "id": "071a05d4",
   "metadata": {},
   "outputs": [
    {
     "data": {
      "text/plain": [
       "-3265.0"
      ]
     },
     "execution_count": 111,
     "metadata": {},
     "output_type": "execute_result"
    }
   ],
   "source": [
    "eye_predic['PHQ_9_score'].min()"
   ]
  },
  {
   "cell_type": "code",
   "execution_count": 112,
   "id": "d84fb2c8",
   "metadata": {},
   "outputs": [
    {
     "data": {
      "text/plain": [
       "36.0"
      ]
     },
     "execution_count": 112,
     "metadata": {},
     "output_type": "execute_result"
    }
   ],
   "source": [
    "eye_predic['PHQ_9_score'].max()"
   ]
  },
  {
   "cell_type": "code",
   "execution_count": 151,
   "id": "61937036",
   "metadata": {},
   "outputs": [
    {
     "name": "stderr",
     "output_type": "stream",
     "text": [
      "/tmp/ipykernel_199526/2028616569.py:1: SettingWithCopyWarning: \n",
      "A value is trying to be set on a copy of a slice from a DataFrame\n",
      "\n",
      "See the caveats in the documentation: https://pandas.pydata.org/pandas-docs/stable/user_guide/indexing.html#returning-a-view-versus-a-copy\n",
      "  img_age['PHQ_9_score'][img_age['PHQ_9_score']<0] = 0\n"
     ]
    }
   ],
   "source": [
    "img_age['PHQ_9_score'][img_age['PHQ_9_score']<0] = 0"
   ]
  },
  {
   "cell_type": "code",
   "execution_count": 119,
   "id": "dd7b78ad",
   "metadata": {},
   "outputs": [
    {
     "data": {
      "text/plain": [
       "<AxesSubplot: xlabel='age_direct', ylabel='level'>"
      ]
     },
     "execution_count": 119,
     "metadata": {},
     "output_type": "execute_result"
    },
    {
     "data": {
      "image/png": "[encoded data removed]",
      "text/plain": [
       "<Figure size 432x288 with 1 Axes>"
      ]
     },
     "metadata": {
      "needs_background": "light"
     },
     "output_type": "display_data"
    }
   ],
   "source": [
    "sns.boxplot(data=eye_predic, x=\"age_direct\", y=\"level\",fliersize=0)"
   ]
  },
  {
   "cell_type": "code",
   "execution_count": 140,
   "id": "fa553bcb",
   "metadata": {},
   "outputs": [
    {
     "data": {
      "image/png": "[encoded data removed]",
      "text/plain": [
       "<Figure size 180x216 with 1 Axes>"
      ]
     },
     "metadata": {
      "needs_background": "light"
     },
     "output_type": "display_data"
    }
   ],
   "source": [
    "plt.figure(figsize=(2.5, 3))\n",
    "sns.boxplot(data=eye_predic, x=\"age_direct\", y=\"PHQ_9_score\",fliersize=0,width=0.5,hue='age_direct')\n",
    "plt.xticks(ticks=[0,1],labels=['Younger','Older'])\n",
    "plt.ylim(0,25)\n",
    "plt.legend(\"\")\n",
    "plt.savefig('/share2/pub/zhangyr/zhangyr/myIdea/bioAge/figures/svm-eye/fundusAge_depressionScore.pdf')"
   ]
  },
  {
   "cell_type": "code",
   "execution_count": 179,
   "id": "27f65256",
   "metadata": {},
   "outputs": [
    {
     "data": {
      "image/png": "[encoded data removed]",
      "text/plain": [
       "<Figure size 180x216 with 1 Axes>"
      ]
     },
     "metadata": {
      "needs_background": "light"
     },
     "output_type": "display_data"
    }
   ],
   "source": [
    "plt.figure(figsize=(2.5, 3))\n",
    "sns.boxplot(data=img_age, x=\"age_direct\", y=\"PHQ_9_score\",fliersize=0,width=0.5,hue='age_direct')\n",
    "plt.xticks(ticks=[0,1],labels=['Younger','Older'])\n",
    "plt.ylim(0,25)\n",
    "plt.legend(\"\")\n",
    "plt.title('Depression Scores')\n",
    "plt.savefig('/share2/pub/zhangyr/zhangyr/myIdea/bioAge/figures/svm-eye/fundusAge_depressionScore.pdf')"
   ]
  },
  {
   "cell_type": "code",
   "execution_count": 169,
   "id": "01a5bd61",
   "metadata": {},
   "outputs": [
    {
     "data": {
      "text/plain": [
       "Ttest_indResult(statistic=7.173993747468999, pvalue=7.876211565307437e-13)"
      ]
     },
     "execution_count": 169,
     "metadata": {},
     "output_type": "execute_result"
    }
   ],
   "source": [
    "stats.ttest_ind(img_age['PHQ_9_score'][img_age['age_direct'] == True], \n",
    "                img_age['PHQ_9_score'][img_age['age_direct'] == False], equal_var=False)"
   ]
  },
  {
   "cell_type": "code",
   "execution_count": 170,
   "id": "8de3fefb",
   "metadata": {},
   "outputs": [
    {
     "data": {
      "text/plain": [
       "8786"
      ]
     },
     "execution_count": 170,
     "metadata": {},
     "output_type": "execute_result"
    }
   ],
   "source": [
    "anxiety = pd.read_csv('/share2/pub/zhangyr/zhangyr/myIdea/bioAge/data/UKB/brain/anxiety_all.csv',index_col=1)\n",
    "inter_id = set(img_age.index) & set(anxiety.index)\n",
    "len(inter_id)"
   ]
  },
  {
   "cell_type": "code",
   "execution_count": 171,
   "id": "d8109420",
   "metadata": {
    "scrolled": true
   },
   "outputs": [
    {
     "data": {
      "text/html": [
       "<div>\n",
       "<style scoped>\n",
       "    .dataframe tbody tr th:only-of-type {\n",
       "        vertical-align: middle;\n",
       "    }\n",
       "\n",
       "    .dataframe tbody tr th {\n",
       "        vertical-align: top;\n",
       "    }\n",
       "\n",
       "    .dataframe thead th {\n",
       "        text-align: right;\n",
       "    }\n",
       "</style>\n",
       "<table border=\"1\" class=\"dataframe\">\n",
       "  <thead>\n",
       "    <tr style=\"text-align: right;\">\n",
       "      <th></th>\n",
       "      <th>Unnamed: 0</th>\n",
       "      <th>participant.p20509</th>\n",
       "      <th>participant.p20506</th>\n",
       "      <th>participant.p20516</th>\n",
       "      <th>participant.p20515</th>\n",
       "      <th>participant.p20505</th>\n",
       "      <th>participant.p20520</th>\n",
       "      <th>participant.p20512</th>\n",
       "      <th>GAD_7_score</th>\n",
       "      <th>level</th>\n",
       "    </tr>\n",
       "    <tr>\n",
       "      <th>participant.eid</th>\n",
       "      <th></th>\n",
       "      <th></th>\n",
       "      <th></th>\n",
       "      <th></th>\n",
       "      <th></th>\n",
       "      <th></th>\n",
       "      <th></th>\n",
       "      <th></th>\n",
       "      <th></th>\n",
       "      <th></th>\n",
       "    </tr>\n",
       "  </thead>\n",
       "  <tbody>\n",
       "    <tr>\n",
       "      <th>1000035</th>\n",
       "      <td>2</td>\n",
       "      <td>3.0</td>\n",
       "      <td>3.0</td>\n",
       "      <td>1.0</td>\n",
       "      <td>1.0</td>\n",
       "      <td>1.0</td>\n",
       "      <td>3.0</td>\n",
       "      <td>1.0</td>\n",
       "      <td>13.0</td>\n",
       "      <td>2</td>\n",
       "    </tr>\n",
       "    <tr>\n",
       "      <th>1000046</th>\n",
       "      <td>3</td>\n",
       "      <td>1.0</td>\n",
       "      <td>1.0</td>\n",
       "      <td>1.0</td>\n",
       "      <td>1.0</td>\n",
       "      <td>1.0</td>\n",
       "      <td>1.0</td>\n",
       "      <td>1.0</td>\n",
       "      <td>7.0</td>\n",
       "      <td>1</td>\n",
       "    </tr>\n",
       "    <tr>\n",
       "      <th>1000078</th>\n",
       "      <td>6</td>\n",
       "      <td>1.0</td>\n",
       "      <td>1.0</td>\n",
       "      <td>1.0</td>\n",
       "      <td>2.0</td>\n",
       "      <td>2.0</td>\n",
       "      <td>1.0</td>\n",
       "      <td>1.0</td>\n",
       "      <td>9.0</td>\n",
       "      <td>1</td>\n",
       "    </tr>\n",
       "    <tr>\n",
       "      <th>1000112</th>\n",
       "      <td>10</td>\n",
       "      <td>1.0</td>\n",
       "      <td>1.0</td>\n",
       "      <td>1.0</td>\n",
       "      <td>1.0</td>\n",
       "      <td>1.0</td>\n",
       "      <td>1.0</td>\n",
       "      <td>1.0</td>\n",
       "      <td>7.0</td>\n",
       "      <td>1</td>\n",
       "    </tr>\n",
       "    <tr>\n",
       "      <th>1000236</th>\n",
       "      <td>22</td>\n",
       "      <td>1.0</td>\n",
       "      <td>1.0</td>\n",
       "      <td>1.0</td>\n",
       "      <td>1.0</td>\n",
       "      <td>1.0</td>\n",
       "      <td>1.0</td>\n",
       "      <td>1.0</td>\n",
       "      <td>7.0</td>\n",
       "      <td>1</td>\n",
       "    </tr>\n",
       "    <tr>\n",
       "      <th>...</th>\n",
       "      <td>...</td>\n",
       "      <td>...</td>\n",
       "      <td>...</td>\n",
       "      <td>...</td>\n",
       "      <td>...</td>\n",
       "      <td>...</td>\n",
       "      <td>...</td>\n",
       "      <td>...</td>\n",
       "      <td>...</td>\n",
       "      <td>...</td>\n",
       "    </tr>\n",
       "    <tr>\n",
       "      <th>6023584</th>\n",
       "      <td>502128</td>\n",
       "      <td>1.0</td>\n",
       "      <td>1.0</td>\n",
       "      <td>1.0</td>\n",
       "      <td>1.0</td>\n",
       "      <td>1.0</td>\n",
       "      <td>1.0</td>\n",
       "      <td>1.0</td>\n",
       "      <td>7.0</td>\n",
       "      <td>1</td>\n",
       "    </tr>\n",
       "    <tr>\n",
       "      <th>6023609</th>\n",
       "      <td>502130</td>\n",
       "      <td>1.0</td>\n",
       "      <td>1.0</td>\n",
       "      <td>1.0</td>\n",
       "      <td>1.0</td>\n",
       "      <td>2.0</td>\n",
       "      <td>1.0</td>\n",
       "      <td>1.0</td>\n",
       "      <td>8.0</td>\n",
       "      <td>1</td>\n",
       "    </tr>\n",
       "    <tr>\n",
       "      <th>6023638</th>\n",
       "      <td>502133</td>\n",
       "      <td>1.0</td>\n",
       "      <td>1.0</td>\n",
       "      <td>1.0</td>\n",
       "      <td>1.0</td>\n",
       "      <td>1.0</td>\n",
       "      <td>1.0</td>\n",
       "      <td>1.0</td>\n",
       "      <td>7.0</td>\n",
       "      <td>1</td>\n",
       "    </tr>\n",
       "    <tr>\n",
       "      <th>6023642</th>\n",
       "      <td>502134</td>\n",
       "      <td>1.0</td>\n",
       "      <td>1.0</td>\n",
       "      <td>1.0</td>\n",
       "      <td>1.0</td>\n",
       "      <td>1.0</td>\n",
       "      <td>1.0</td>\n",
       "      <td>1.0</td>\n",
       "      <td>7.0</td>\n",
       "      <td>1</td>\n",
       "    </tr>\n",
       "    <tr>\n",
       "      <th>6023656</th>\n",
       "      <td>502135</td>\n",
       "      <td>2.0</td>\n",
       "      <td>2.0</td>\n",
       "      <td>1.0</td>\n",
       "      <td>2.0</td>\n",
       "      <td>1.0</td>\n",
       "      <td>2.0</td>\n",
       "      <td>2.0</td>\n",
       "      <td>12.0</td>\n",
       "      <td>2</td>\n",
       "    </tr>\n",
       "  </tbody>\n",
       "</table>\n",
       "<p>157230 rows × 10 columns</p>\n",
       "</div>"
      ],
      "text/plain": [
       "                 Unnamed: 0  participant.p20509  participant.p20506  \\\n",
       "participant.eid                                                       \n",
       "1000035                   2                 3.0                 3.0   \n",
       "1000046                   3                 1.0                 1.0   \n",
       "1000078                   6                 1.0                 1.0   \n",
       "1000112                  10                 1.0                 1.0   \n",
       "1000236                  22                 1.0                 1.0   \n",
       "...                     ...                 ...                 ...   \n",
       "6023584              502128                 1.0                 1.0   \n",
       "6023609              502130                 1.0                 1.0   \n",
       "6023638              502133                 1.0                 1.0   \n",
       "6023642              502134                 1.0                 1.0   \n",
       "6023656              502135                 2.0                 2.0   \n",
       "\n",
       "                 participant.p20516  participant.p20515  participant.p20505  \\\n",
       "participant.eid                                                               \n",
       "1000035                         1.0                 1.0                 1.0   \n",
       "1000046                         1.0                 1.0                 1.0   \n",
       "1000078                         1.0                 2.0                 2.0   \n",
       "1000112                         1.0                 1.0                 1.0   \n",
       "1000236                         1.0                 1.0                 1.0   \n",
       "...                             ...                 ...                 ...   \n",
       "6023584                         1.0                 1.0                 1.0   \n",
       "6023609                         1.0                 1.0                 2.0   \n",
       "6023638                         1.0                 1.0                 1.0   \n",
       "6023642                         1.0                 1.0                 1.0   \n",
       "6023656                         1.0                 2.0                 1.0   \n",
       "\n",
       "                 participant.p20520  participant.p20512  GAD_7_score  level  \n",
       "participant.eid                                                              \n",
       "1000035                         3.0                 1.0         13.0      2  \n",
       "1000046                         1.0                 1.0          7.0      1  \n",
       "1000078                         1.0                 1.0          9.0      1  \n",
       "1000112                         1.0                 1.0          7.0      1  \n",
       "1000236                         1.0                 1.0          7.0      1  \n",
       "...                             ...                 ...          ...    ...  \n",
       "6023584                         1.0                 1.0          7.0      1  \n",
       "6023609                         1.0                 1.0          8.0      1  \n",
       "6023638                         1.0                 1.0          7.0      1  \n",
       "6023642                         1.0                 1.0          7.0      1  \n",
       "6023656                         2.0                 2.0         12.0      2  \n",
       "\n",
       "[157230 rows x 10 columns]"
      ]
     },
     "execution_count": 171,
     "metadata": {},
     "output_type": "execute_result"
    }
   ],
   "source": [
    "anxiety"
   ]
  },
  {
   "cell_type": "code",
   "execution_count": 172,
   "id": "6ac5729a",
   "metadata": {},
   "outputs": [
    {
     "name": "stderr",
     "output_type": "stream",
     "text": [
      "/tmp/ipykernel_199526/3319167610.py:1: FutureWarning: Passing a set as an indexer is deprecated and will raise in a future version. Use a list instead.\n",
      "  img_age = img_age.loc[inter_id]\n",
      "/tmp/ipykernel_199526/3319167610.py:2: FutureWarning: Passing a set as an indexer is deprecated and will raise in a future version. Use a list instead.\n",
      "  img_age['GAD_7_score'] = anxiety.loc[inter_id][['GAD_7_score']]\n"
     ]
    }
   ],
   "source": [
    "img_age = img_age.loc[inter_id]\n",
    "img_age['GAD_7_score'] = anxiety.loc[inter_id][['GAD_7_score']]"
   ]
  },
  {
   "cell_type": "code",
   "execution_count": 174,
   "id": "8440fa0f",
   "metadata": {},
   "outputs": [
    {
     "name": "stderr",
     "output_type": "stream",
     "text": [
      "/tmp/ipykernel_199526/1517830364.py:1: SettingWithCopyWarning: \n",
      "A value is trying to be set on a copy of a slice from a DataFrame\n",
      "\n",
      "See the caveats in the documentation: https://pandas.pydata.org/pandas-docs/stable/user_guide/indexing.html#returning-a-view-versus-a-copy\n",
      "  img_age['GAD_7_score'][img_age['GAD_7_score']<0] = 0\n"
     ]
    }
   ],
   "source": [
    "img_age['GAD_7_score'][img_age['GAD_7_score']<0] = 0"
   ]
  },
  {
   "cell_type": "code",
   "execution_count": 175,
   "id": "06327cb7",
   "metadata": {},
   "outputs": [
    {
     "data": {
      "text/plain": [
       "Ttest_indResult(statistic=7.624189294316274, pvalue=2.7090177894375697e-14)"
      ]
     },
     "execution_count": 175,
     "metadata": {},
     "output_type": "execute_result"
    }
   ],
   "source": [
    "stats.ttest_ind(img_age['GAD_7_score'][img_age['age_direct'] == True], \n",
    "                img_age['GAD_7_score'][img_age['age_direct'] == False], equal_var=False)"
   ]
  },
  {
   "cell_type": "code",
   "execution_count": 178,
   "id": "b4aef34d",
   "metadata": {},
   "outputs": [
    {
     "data": {
      "image/png": "[encoded data removed]",
      "text/plain": [
       "<Figure size 180x216 with 1 Axes>"
      ]
     },
     "metadata": {
      "needs_background": "light"
     },
     "output_type": "display_data"
    }
   ],
   "source": [
    "plt.figure(figsize=(2.5, 3))\n",
    "sns.boxplot(data=img_age, x=\"age_direct\", y=\"GAD_7_score\",fliersize=0,width=0.5,hue='age_direct')\n",
    "plt.xticks(ticks=[0,1],labels=['Younger','Older'])\n",
    "plt.ylim(0,25)\n",
    "plt.legend(\"\")\n",
    "plt.title('Anxiety Scores')\n",
    "plt.savefig('/share2/pub/zhangyr/zhangyr/myIdea/bioAge/figures/svm-eye/fundusAge_anxietyScore.pdf')"
   ]
  },
  {
   "cell_type": "code",
   "execution_count": null,
   "id": "de1db396",
   "metadata": {},
   "outputs": [],
   "source": []
  },
  {
   "cell_type": "code",
   "execution_count": 118,
   "id": "e3ef42fd",
   "metadata": {},
   "outputs": [
    {
     "name": "stderr",
     "output_type": "stream",
     "text": [
      "/tmp/ipykernel_199526/3206023185.py:2: FutureWarning: Passing a set as an indexer is deprecated and will raise in a future version. Use a list instead.\n",
      "  eye = eye.loc[inter_id]\n"
     ]
    }
   ],
   "source": [
    "eye = pd.read_csv('/share2/pub/zhangyr/zhangyr/myIdea/bioAge/data/UKB/eye/502137_baseline_152features_20241227.csv',index_col=0)\n",
    "eye = eye.loc[inter_id]"
   ]
  },
  {
   "cell_type": "code",
   "execution_count": null,
   "id": "257e35ff",
   "metadata": {},
   "outputs": [],
   "source": []
  },
  {
   "cell_type": "code",
   "execution_count": null,
   "id": "2f9cdc97",
   "metadata": {},
   "outputs": [],
   "source": [
    "body = np.save('/share2/pub/zhangyr/zhangyr/myIdea/bioAge/results/body/SVM_7organ_body_20241227.npy'"
   ]
  }
 ],
 "metadata": {
  "kernelspec": {
   "display_name": "Python 3 (ipykernel)",
   "language": "python",
   "name": "python3"
  },
  "language_info": {
   "codemirror_mode": {
    "name": "ipython",
    "version": 3
   },
   "file_extension": ".py",
   "mimetype": "text/x-python",
   "name": "python",
   "nbconvert_exporter": "python",
   "pygments_lexer": "ipython3",
   "version": "3.8.8"
  }
 },
 "nbformat": 4,
 "nbformat_minor": 5
}
